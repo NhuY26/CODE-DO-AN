{
  "nbformat": 4,
  "nbformat_minor": 0,
  "metadata": {
    "colab": {
      "name": " CODE ĐỒ ÁN  MÔN PTDL PYTHON HK2.ipynb",
      "provenance": [],
      "collapsed_sections": [],
      "mount_file_id": "1Fpf-kUSY4K3UHHTOQ4E5VaXab9UTN5Kf",
      "authorship_tag": "ABX9TyMM4IW05tzZZfU9xgg23WRH",
      "include_colab_link": true
    },
    "kernelspec": {
      "name": "python3",
      "display_name": "Python 3"
    },
    "language_info": {
      "name": "python"
    }
  },
  "cells": [
    {
      "cell_type": "markdown",
      "metadata": {
        "id": "view-in-github",
        "colab_type": "text"
      },
      "source": [
        "<a href=\"https://colab.research.google.com/github/NhuY26/CODE-DO-AN/blob/master/CODE_%C4%90%E1%BB%92_%C3%81N_M%C3%94N_PTDL_PYTHON_HK2.ipynb\" target=\"_parent\"><img src=\"https://colab.research.google.com/assets/colab-badge.svg\" alt=\"Open In Colab\"/></a>"
      ]
    },
    {
      "cell_type": "markdown",
      "source": [
        "## **1. Sử dụng tập tin Inc_Exp_Data.csv để thực hiện phân tích thống kê mô tả về tập dữ liệu này.**\n",
        "\n",
        "\t- Với tệp Inc_Exp_Data.csv:\n",
        "Ta có các ký hiệu:\n",
        "  - Mthly_HH_Income:\tThu nhập gia đình hàng tháng\n",
        "  - Mthly_HH_Expense:\tChi phí hộ gia đình hàng tháng (Biến phụ thuộc)\n",
        "  - No_of_Fly_Members:\tSố thành viên trong gia đình\n",
        "  - Emi_or_Rent_Amt:\tsố tiền thuê\n",
        "  - Annual_HH_Income:\tThu nhập hộ gia đình hàng năm\n",
        "  - Highest_Qualified_Member:\tTrình độ học vấn cao nhất của thành viên gia đình\n",
        "  - No_of_Earning_Members:\tSố thành viên có thu nhập\n"
      ],
      "metadata": {
        "id": "lA8WHzvuaRlE"
      }
    },
    {
      "cell_type": "code",
      "source": [
        "import numpy as np\n",
        "import pandas as pd\n",
        "import matplotlib.pyplot as plt\n",
        "import scipy.stats as st\n",
        "import seaborn as sns"
      ],
      "metadata": {
        "id": "sy8JTBogbtek"
      },
      "execution_count": null,
      "outputs": []
    },
    {
      "cell_type": "code",
      "source": [
        "from google.colab import drive\n",
        "drive.mount('/content/drive')\n",
        "df = pd.read_csv(\"/content/drive/MyDrive/ĐỒ ÁN PYTHON HK2 (2022)/Inc_Exp_Data.csv\")\n"
      ],
      "metadata": {
        "colab": {
          "base_uri": "https://localhost:8080/"
        },
        "id": "w0sx1SoicS_A",
        "outputId": "aa74b6c4-47ac-4367-e10d-f6374b3b24e0"
      },
      "execution_count": null,
      "outputs": [
        {
          "output_type": "stream",
          "name": "stdout",
          "text": [
            "Mounted at /content/drive\n"
          ]
        }
      ]
    },
    {
      "cell_type": "code",
      "source": [
        "#Hiển thị 5 dòng đầu của dữ liệu \n",
        "\n",
        "df.head()"
      ],
      "metadata": {
        "colab": {
          "base_uri": "https://localhost:8080/",
          "height": 206
        },
        "id": "bjOiQvVVdFcW",
        "outputId": "05b36b95-612a-41b9-9467-aba1094cc696"
      },
      "execution_count": null,
      "outputs": [
        {
          "output_type": "execute_result",
          "data": {
            "text/plain": [
              "   Mthly_HH_Income  Mthly_HH_Expense  No_of_Fly_Members  Emi_or_Rent_Amt  \\\n",
              "0             5000              8000                  3             2000   \n",
              "1             6000              7000                  2             3000   \n",
              "2            10000              4500                  2                0   \n",
              "3            10000              2000                  1                0   \n",
              "4            12500             12000                  2             3000   \n",
              "\n",
              "   Annual_HH_Income Highest_Qualified_Member  No_of_Earning_Members  \n",
              "0             64200           Under-Graduate                      1  \n",
              "1             79920               Illiterate                      1  \n",
              "2            112800           Under-Graduate                      1  \n",
              "3             97200               Illiterate                      1  \n",
              "4            147000                 Graduate                      1  "
            ],
            "text/html": [
              "\n",
              "  <div id=\"df-4d4ee204-091c-4499-beb3-88cb4709d760\">\n",
              "    <div class=\"colab-df-container\">\n",
              "      <div>\n",
              "<style scoped>\n",
              "    .dataframe tbody tr th:only-of-type {\n",
              "        vertical-align: middle;\n",
              "    }\n",
              "\n",
              "    .dataframe tbody tr th {\n",
              "        vertical-align: top;\n",
              "    }\n",
              "\n",
              "    .dataframe thead th {\n",
              "        text-align: right;\n",
              "    }\n",
              "</style>\n",
              "<table border=\"1\" class=\"dataframe\">\n",
              "  <thead>\n",
              "    <tr style=\"text-align: right;\">\n",
              "      <th></th>\n",
              "      <th>Mthly_HH_Income</th>\n",
              "      <th>Mthly_HH_Expense</th>\n",
              "      <th>No_of_Fly_Members</th>\n",
              "      <th>Emi_or_Rent_Amt</th>\n",
              "      <th>Annual_HH_Income</th>\n",
              "      <th>Highest_Qualified_Member</th>\n",
              "      <th>No_of_Earning_Members</th>\n",
              "    </tr>\n",
              "  </thead>\n",
              "  <tbody>\n",
              "    <tr>\n",
              "      <th>0</th>\n",
              "      <td>5000</td>\n",
              "      <td>8000</td>\n",
              "      <td>3</td>\n",
              "      <td>2000</td>\n",
              "      <td>64200</td>\n",
              "      <td>Under-Graduate</td>\n",
              "      <td>1</td>\n",
              "    </tr>\n",
              "    <tr>\n",
              "      <th>1</th>\n",
              "      <td>6000</td>\n",
              "      <td>7000</td>\n",
              "      <td>2</td>\n",
              "      <td>3000</td>\n",
              "      <td>79920</td>\n",
              "      <td>Illiterate</td>\n",
              "      <td>1</td>\n",
              "    </tr>\n",
              "    <tr>\n",
              "      <th>2</th>\n",
              "      <td>10000</td>\n",
              "      <td>4500</td>\n",
              "      <td>2</td>\n",
              "      <td>0</td>\n",
              "      <td>112800</td>\n",
              "      <td>Under-Graduate</td>\n",
              "      <td>1</td>\n",
              "    </tr>\n",
              "    <tr>\n",
              "      <th>3</th>\n",
              "      <td>10000</td>\n",
              "      <td>2000</td>\n",
              "      <td>1</td>\n",
              "      <td>0</td>\n",
              "      <td>97200</td>\n",
              "      <td>Illiterate</td>\n",
              "      <td>1</td>\n",
              "    </tr>\n",
              "    <tr>\n",
              "      <th>4</th>\n",
              "      <td>12500</td>\n",
              "      <td>12000</td>\n",
              "      <td>2</td>\n",
              "      <td>3000</td>\n",
              "      <td>147000</td>\n",
              "      <td>Graduate</td>\n",
              "      <td>1</td>\n",
              "    </tr>\n",
              "  </tbody>\n",
              "</table>\n",
              "</div>\n",
              "      <button class=\"colab-df-convert\" onclick=\"convertToInteractive('df-4d4ee204-091c-4499-beb3-88cb4709d760')\"\n",
              "              title=\"Convert this dataframe to an interactive table.\"\n",
              "              style=\"display:none;\">\n",
              "        \n",
              "  <svg xmlns=\"http://www.w3.org/2000/svg\" height=\"24px\"viewBox=\"0 0 24 24\"\n",
              "       width=\"24px\">\n",
              "    <path d=\"M0 0h24v24H0V0z\" fill=\"none\"/>\n",
              "    <path d=\"M18.56 5.44l.94 2.06.94-2.06 2.06-.94-2.06-.94-.94-2.06-.94 2.06-2.06.94zm-11 1L8.5 8.5l.94-2.06 2.06-.94-2.06-.94L8.5 2.5l-.94 2.06-2.06.94zm10 10l.94 2.06.94-2.06 2.06-.94-2.06-.94-.94-2.06-.94 2.06-2.06.94z\"/><path d=\"M17.41 7.96l-1.37-1.37c-.4-.4-.92-.59-1.43-.59-.52 0-1.04.2-1.43.59L10.3 9.45l-7.72 7.72c-.78.78-.78 2.05 0 2.83L4 21.41c.39.39.9.59 1.41.59.51 0 1.02-.2 1.41-.59l7.78-7.78 2.81-2.81c.8-.78.8-2.07 0-2.86zM5.41 20L4 18.59l7.72-7.72 1.47 1.35L5.41 20z\"/>\n",
              "  </svg>\n",
              "      </button>\n",
              "      \n",
              "  <style>\n",
              "    .colab-df-container {\n",
              "      display:flex;\n",
              "      flex-wrap:wrap;\n",
              "      gap: 12px;\n",
              "    }\n",
              "\n",
              "    .colab-df-convert {\n",
              "      background-color: #E8F0FE;\n",
              "      border: none;\n",
              "      border-radius: 50%;\n",
              "      cursor: pointer;\n",
              "      display: none;\n",
              "      fill: #1967D2;\n",
              "      height: 32px;\n",
              "      padding: 0 0 0 0;\n",
              "      width: 32px;\n",
              "    }\n",
              "\n",
              "    .colab-df-convert:hover {\n",
              "      background-color: #E2EBFA;\n",
              "      box-shadow: 0px 1px 2px rgba(60, 64, 67, 0.3), 0px 1px 3px 1px rgba(60, 64, 67, 0.15);\n",
              "      fill: #174EA6;\n",
              "    }\n",
              "\n",
              "    [theme=dark] .colab-df-convert {\n",
              "      background-color: #3B4455;\n",
              "      fill: #D2E3FC;\n",
              "    }\n",
              "\n",
              "    [theme=dark] .colab-df-convert:hover {\n",
              "      background-color: #434B5C;\n",
              "      box-shadow: 0px 1px 3px 1px rgba(0, 0, 0, 0.15);\n",
              "      filter: drop-shadow(0px 1px 2px rgba(0, 0, 0, 0.3));\n",
              "      fill: #FFFFFF;\n",
              "    }\n",
              "  </style>\n",
              "\n",
              "      <script>\n",
              "        const buttonEl =\n",
              "          document.querySelector('#df-4d4ee204-091c-4499-beb3-88cb4709d760 button.colab-df-convert');\n",
              "        buttonEl.style.display =\n",
              "          google.colab.kernel.accessAllowed ? 'block' : 'none';\n",
              "\n",
              "        async function convertToInteractive(key) {\n",
              "          const element = document.querySelector('#df-4d4ee204-091c-4499-beb3-88cb4709d760');\n",
              "          const dataTable =\n",
              "            await google.colab.kernel.invokeFunction('convertToInteractive',\n",
              "                                                     [key], {});\n",
              "          if (!dataTable) return;\n",
              "\n",
              "          const docLinkHtml = 'Like what you see? Visit the ' +\n",
              "            '<a target=\"_blank\" href=https://colab.research.google.com/notebooks/data_table.ipynb>data table notebook</a>'\n",
              "            + ' to learn more about interactive tables.';\n",
              "          element.innerHTML = '';\n",
              "          dataTable['output_type'] = 'display_data';\n",
              "          await google.colab.output.renderOutput(dataTable, element);\n",
              "          const docLink = document.createElement('div');\n",
              "          docLink.innerHTML = docLinkHtml;\n",
              "          element.appendChild(docLink);\n",
              "        }\n",
              "      </script>\n",
              "    </div>\n",
              "  </div>\n",
              "  "
            ]
          },
          "metadata": {},
          "execution_count": 3
        }
      ]
    },
    {
      "cell_type": "code",
      "source": [
        "#Một vài thông tin cả dữ liệu \n",
        "\n",
        "df.info()"
      ],
      "metadata": {
        "colab": {
          "base_uri": "https://localhost:8080/"
        },
        "id": "82_VzXrfdGxQ",
        "outputId": "b7a9e4d5-cff0-484d-93a4-e444dbb6977d"
      },
      "execution_count": null,
      "outputs": [
        {
          "output_type": "stream",
          "name": "stdout",
          "text": [
            "<class 'pandas.core.frame.DataFrame'>\n",
            "RangeIndex: 50 entries, 0 to 49\n",
            "Data columns (total 7 columns):\n",
            " #   Column                    Non-Null Count  Dtype \n",
            "---  ------                    --------------  ----- \n",
            " 0   Mthly_HH_Income           50 non-null     int64 \n",
            " 1   Mthly_HH_Expense          50 non-null     int64 \n",
            " 2   No_of_Fly_Members         50 non-null     int64 \n",
            " 3   Emi_or_Rent_Amt           50 non-null     int64 \n",
            " 4   Annual_HH_Income          50 non-null     int64 \n",
            " 5   Highest_Qualified_Member  50 non-null     object\n",
            " 6   No_of_Earning_Members     50 non-null     int64 \n",
            "dtypes: int64(6), object(1)\n",
            "memory usage: 2.9+ KB\n"
          ]
        }
      ]
    },
    {
      "cell_type": "code",
      "source": [
        "#Dùng hàm 'describe()' để tính toán các thông số của dữ liệu có khả năng là định lượng một cách nhanh chóng\n",
        "\n",
        "numeric_data = list(df.describe())"
      ],
      "metadata": {
        "id": "5N_v43IinTm0"
      },
      "execution_count": null,
      "outputs": []
    },
    {
      "cell_type": "code",
      "source": [
        "result = pd.DataFrame()\n",
        "for i in range(0,6):\n",
        "  result[numeric_data[i]] = df[numeric_data[i]].describe()\n",
        "result"
      ],
      "metadata": {
        "colab": {
          "base_uri": "https://localhost:8080/",
          "height": 300
        },
        "id": "XreUAmBNnZs9",
        "outputId": "f724cb57-1afc-4996-94ac-87005b80d61f"
      },
      "execution_count": null,
      "outputs": [
        {
          "output_type": "execute_result",
          "data": {
            "text/plain": [
              "       Mthly_HH_Income  Mthly_HH_Expense  No_of_Fly_Members  Emi_or_Rent_Amt  \\\n",
              "count        50.000000         50.000000          50.000000        50.000000   \n",
              "mean      41558.000000      18818.000000           4.060000      3060.000000   \n",
              "std       26097.908979      12090.216824           1.517382      6241.434948   \n",
              "min        5000.000000       2000.000000           1.000000         0.000000   \n",
              "25%       23550.000000      10000.000000           3.000000         0.000000   \n",
              "50%       35000.000000      15500.000000           4.000000         0.000000   \n",
              "75%       50375.000000      25000.000000           5.000000      3500.000000   \n",
              "max      100000.000000      50000.000000           7.000000     35000.000000   \n",
              "\n",
              "       Annual_HH_Income  No_of_Earning_Members  \n",
              "count      5.000000e+01              50.000000  \n",
              "mean       4.900190e+05               1.460000  \n",
              "std        3.201358e+05               0.734291  \n",
              "min        6.420000e+04               1.000000  \n",
              "25%        2.587500e+05               1.000000  \n",
              "50%        4.474200e+05               1.000000  \n",
              "75%        5.947200e+05               2.000000  \n",
              "max        1.404000e+06               4.000000  "
            ],
            "text/html": [
              "\n",
              "  <div id=\"df-7745d401-d2ef-468e-87ff-fcd24801bcc1\">\n",
              "    <div class=\"colab-df-container\">\n",
              "      <div>\n",
              "<style scoped>\n",
              "    .dataframe tbody tr th:only-of-type {\n",
              "        vertical-align: middle;\n",
              "    }\n",
              "\n",
              "    .dataframe tbody tr th {\n",
              "        vertical-align: top;\n",
              "    }\n",
              "\n",
              "    .dataframe thead th {\n",
              "        text-align: right;\n",
              "    }\n",
              "</style>\n",
              "<table border=\"1\" class=\"dataframe\">\n",
              "  <thead>\n",
              "    <tr style=\"text-align: right;\">\n",
              "      <th></th>\n",
              "      <th>Mthly_HH_Income</th>\n",
              "      <th>Mthly_HH_Expense</th>\n",
              "      <th>No_of_Fly_Members</th>\n",
              "      <th>Emi_or_Rent_Amt</th>\n",
              "      <th>Annual_HH_Income</th>\n",
              "      <th>No_of_Earning_Members</th>\n",
              "    </tr>\n",
              "  </thead>\n",
              "  <tbody>\n",
              "    <tr>\n",
              "      <th>count</th>\n",
              "      <td>50.000000</td>\n",
              "      <td>50.000000</td>\n",
              "      <td>50.000000</td>\n",
              "      <td>50.000000</td>\n",
              "      <td>5.000000e+01</td>\n",
              "      <td>50.000000</td>\n",
              "    </tr>\n",
              "    <tr>\n",
              "      <th>mean</th>\n",
              "      <td>41558.000000</td>\n",
              "      <td>18818.000000</td>\n",
              "      <td>4.060000</td>\n",
              "      <td>3060.000000</td>\n",
              "      <td>4.900190e+05</td>\n",
              "      <td>1.460000</td>\n",
              "    </tr>\n",
              "    <tr>\n",
              "      <th>std</th>\n",
              "      <td>26097.908979</td>\n",
              "      <td>12090.216824</td>\n",
              "      <td>1.517382</td>\n",
              "      <td>6241.434948</td>\n",
              "      <td>3.201358e+05</td>\n",
              "      <td>0.734291</td>\n",
              "    </tr>\n",
              "    <tr>\n",
              "      <th>min</th>\n",
              "      <td>5000.000000</td>\n",
              "      <td>2000.000000</td>\n",
              "      <td>1.000000</td>\n",
              "      <td>0.000000</td>\n",
              "      <td>6.420000e+04</td>\n",
              "      <td>1.000000</td>\n",
              "    </tr>\n",
              "    <tr>\n",
              "      <th>25%</th>\n",
              "      <td>23550.000000</td>\n",
              "      <td>10000.000000</td>\n",
              "      <td>3.000000</td>\n",
              "      <td>0.000000</td>\n",
              "      <td>2.587500e+05</td>\n",
              "      <td>1.000000</td>\n",
              "    </tr>\n",
              "    <tr>\n",
              "      <th>50%</th>\n",
              "      <td>35000.000000</td>\n",
              "      <td>15500.000000</td>\n",
              "      <td>4.000000</td>\n",
              "      <td>0.000000</td>\n",
              "      <td>4.474200e+05</td>\n",
              "      <td>1.000000</td>\n",
              "    </tr>\n",
              "    <tr>\n",
              "      <th>75%</th>\n",
              "      <td>50375.000000</td>\n",
              "      <td>25000.000000</td>\n",
              "      <td>5.000000</td>\n",
              "      <td>3500.000000</td>\n",
              "      <td>5.947200e+05</td>\n",
              "      <td>2.000000</td>\n",
              "    </tr>\n",
              "    <tr>\n",
              "      <th>max</th>\n",
              "      <td>100000.000000</td>\n",
              "      <td>50000.000000</td>\n",
              "      <td>7.000000</td>\n",
              "      <td>35000.000000</td>\n",
              "      <td>1.404000e+06</td>\n",
              "      <td>4.000000</td>\n",
              "    </tr>\n",
              "  </tbody>\n",
              "</table>\n",
              "</div>\n",
              "      <button class=\"colab-df-convert\" onclick=\"convertToInteractive('df-7745d401-d2ef-468e-87ff-fcd24801bcc1')\"\n",
              "              title=\"Convert this dataframe to an interactive table.\"\n",
              "              style=\"display:none;\">\n",
              "        \n",
              "  <svg xmlns=\"http://www.w3.org/2000/svg\" height=\"24px\"viewBox=\"0 0 24 24\"\n",
              "       width=\"24px\">\n",
              "    <path d=\"M0 0h24v24H0V0z\" fill=\"none\"/>\n",
              "    <path d=\"M18.56 5.44l.94 2.06.94-2.06 2.06-.94-2.06-.94-.94-2.06-.94 2.06-2.06.94zm-11 1L8.5 8.5l.94-2.06 2.06-.94-2.06-.94L8.5 2.5l-.94 2.06-2.06.94zm10 10l.94 2.06.94-2.06 2.06-.94-2.06-.94-.94-2.06-.94 2.06-2.06.94z\"/><path d=\"M17.41 7.96l-1.37-1.37c-.4-.4-.92-.59-1.43-.59-.52 0-1.04.2-1.43.59L10.3 9.45l-7.72 7.72c-.78.78-.78 2.05 0 2.83L4 21.41c.39.39.9.59 1.41.59.51 0 1.02-.2 1.41-.59l7.78-7.78 2.81-2.81c.8-.78.8-2.07 0-2.86zM5.41 20L4 18.59l7.72-7.72 1.47 1.35L5.41 20z\"/>\n",
              "  </svg>\n",
              "      </button>\n",
              "      \n",
              "  <style>\n",
              "    .colab-df-container {\n",
              "      display:flex;\n",
              "      flex-wrap:wrap;\n",
              "      gap: 12px;\n",
              "    }\n",
              "\n",
              "    .colab-df-convert {\n",
              "      background-color: #E8F0FE;\n",
              "      border: none;\n",
              "      border-radius: 50%;\n",
              "      cursor: pointer;\n",
              "      display: none;\n",
              "      fill: #1967D2;\n",
              "      height: 32px;\n",
              "      padding: 0 0 0 0;\n",
              "      width: 32px;\n",
              "    }\n",
              "\n",
              "    .colab-df-convert:hover {\n",
              "      background-color: #E2EBFA;\n",
              "      box-shadow: 0px 1px 2px rgba(60, 64, 67, 0.3), 0px 1px 3px 1px rgba(60, 64, 67, 0.15);\n",
              "      fill: #174EA6;\n",
              "    }\n",
              "\n",
              "    [theme=dark] .colab-df-convert {\n",
              "      background-color: #3B4455;\n",
              "      fill: #D2E3FC;\n",
              "    }\n",
              "\n",
              "    [theme=dark] .colab-df-convert:hover {\n",
              "      background-color: #434B5C;\n",
              "      box-shadow: 0px 1px 3px 1px rgba(0, 0, 0, 0.15);\n",
              "      filter: drop-shadow(0px 1px 2px rgba(0, 0, 0, 0.3));\n",
              "      fill: #FFFFFF;\n",
              "    }\n",
              "  </style>\n",
              "\n",
              "      <script>\n",
              "        const buttonEl =\n",
              "          document.querySelector('#df-7745d401-d2ef-468e-87ff-fcd24801bcc1 button.colab-df-convert');\n",
              "        buttonEl.style.display =\n",
              "          google.colab.kernel.accessAllowed ? 'block' : 'none';\n",
              "\n",
              "        async function convertToInteractive(key) {\n",
              "          const element = document.querySelector('#df-7745d401-d2ef-468e-87ff-fcd24801bcc1');\n",
              "          const dataTable =\n",
              "            await google.colab.kernel.invokeFunction('convertToInteractive',\n",
              "                                                     [key], {});\n",
              "          if (!dataTable) return;\n",
              "\n",
              "          const docLinkHtml = 'Like what you see? Visit the ' +\n",
              "            '<a target=\"_blank\" href=https://colab.research.google.com/notebooks/data_table.ipynb>data table notebook</a>'\n",
              "            + ' to learn more about interactive tables.';\n",
              "          element.innerHTML = '';\n",
              "          dataTable['output_type'] = 'display_data';\n",
              "          await google.colab.output.renderOutput(dataTable, element);\n",
              "          const docLink = document.createElement('div');\n",
              "          docLink.innerHTML = docLinkHtml;\n",
              "          element.appendChild(docLink);\n",
              "        }\n",
              "      </script>\n",
              "    </div>\n",
              "  </div>\n",
              "  "
            ]
          },
          "metadata": {},
          "execution_count": 6
        }
      ]
    },
    {
      "cell_type": "markdown",
      "source": [
        "Kết luận: Sau khi quan sát dữ liệu từ các bảng ta nhận thấy có 6 biến định lượng như sau:\n",
        "\n",
        "\n",
        "- Mthly_HH_Income\n",
        "- Mthly_HH_Expense\n",
        "- No_of_Fly_Members\n",
        "- Emi_or_Rent_Amt\n",
        "- Annual_HH_Income\n",
        "- No_of_Earning_Members"
      ],
      "metadata": {
        "id": "Rco3mOukond0"
      }
    },
    {
      "cell_type": "code",
      "source": [
        "#Vẽ boxplo cho Mthly_HH_Income\n",
        "\n",
        "Mthly_HH_Income = df[\"Mthly_HH_Income\"].dropna()\n",
        "plt.boxplot(Mthly_HH_Income);"
      ],
      "metadata": {
        "colab": {
          "base_uri": "https://localhost:8080/",
          "height": 265
        },
        "id": "lMAVdvgyoxoh",
        "outputId": "ddcd001a-4763-4cc3-8202-15281917bebc"
      },
      "execution_count": null,
      "outputs": [
        {
          "output_type": "display_data",
          "data": {
            "text/plain": [
              "<Figure size 432x288 with 1 Axes>"
            ],
            "image/png": "[encoded data removed]"
          },
          "metadata": {
            "needs_background": "light"
          }
        }
      ]
    },
    {
      "cell_type": "code",
      "source": [
        "#Vẽ boxplo cho Mthly_HH_Expense\n",
        "\n",
        "Mthly_HH_Expense = df[\"Mthly_HH_Expense\"].dropna()\n",
        "plt.boxplot(Mthly_HH_Expense);"
      ],
      "metadata": {
        "colab": {
          "base_uri": "https://localhost:8080/",
          "height": 265
        },
        "id": "G8ayiJxho3Cj",
        "outputId": "0b8300c9-50c3-4b96-9e29-b65e540e85f8"
      },
      "execution_count": null,
      "outputs": [
        {
          "output_type": "display_data",
          "data": {
            "text/plain": [
              "<Figure size 432x288 with 1 Axes>"
            ],
            "image/png": "[encoded data removed]"
          },
          "metadata": {
            "needs_background": "light"
          }
        }
      ]
    },
    {
      "cell_type": "code",
      "source": [
        "#Vẽ boxplo cho No_of_Fly_Members\n",
        "\n",
        "No_of_Fly_Members = df[\"No_of_Fly_Members\"].dropna()\n",
        "plt.boxplot(No_of_Fly_Members);"
      ],
      "metadata": {
        "colab": {
          "base_uri": "https://localhost:8080/",
          "height": 265
        },
        "id": "SHJeNoL9o9ok",
        "outputId": "cda73384-95fb-4d3e-d5cf-0eccecbb52f2"
      },
      "execution_count": null,
      "outputs": [
        {
          "output_type": "display_data",
          "data": {
            "text/plain": [
              "<Figure size 432x288 with 1 Axes>"
            ],
            "image/png": "[encoded data removed]"
          },
          "metadata": {
            "needs_background": "light"
          }
        }
      ]
    },
    {
      "cell_type": "code",
      "source": [
        "# Vẽ boxplo cho Emi_or_Rent_Amt\n",
        "\n",
        "Emi_or_Rent_Amt = df[\"Emi_or_Rent_Amt\"].dropna()\n",
        "plt.boxplot(Emi_or_Rent_Amt);"
      ],
      "metadata": {
        "colab": {
          "base_uri": "https://localhost:8080/",
          "height": 265
        },
        "id": "6-D_1R__pBIr",
        "outputId": "4588e1fb-6f89-4ef4-eacd-8d0474e10c1c"
      },
      "execution_count": null,
      "outputs": [
        {
          "output_type": "display_data",
          "data": {
            "text/plain": [
              "<Figure size 432x288 with 1 Axes>"
            ],
            "image/png": "[encoded data removed]"
          },
          "metadata": {
            "needs_background": "light"
          }
        }
      ]
    },
    {
      "cell_type": "code",
      "source": [
        "#Vẽ boxplo cho Annual_HH_Income\n",
        "\n",
        "Annual_HH_Income = df[\"Annual_HH_Income\"].dropna()\n",
        "plt.boxplot(Annual_HH_Income);"
      ],
      "metadata": {
        "colab": {
          "base_uri": "https://localhost:8080/",
          "height": 276
        },
        "id": "LwN-Vi-spDsp",
        "outputId": "bc776680-1435-4791-f3ce-5f69bdd8001d"
      },
      "execution_count": null,
      "outputs": [
        {
          "output_type": "display_data",
          "data": {
            "text/plain": [
              "<Figure size 432x288 with 1 Axes>"
            ],
            "image/png": "[encoded data removed]"
          },
          "metadata": {
            "needs_background": "light"
          }
        }
      ]
    },
    {
      "cell_type": "code",
      "source": [
        "#Vẽ boxplo cho No_of_Earning_Members\n",
        "\n",
        "No_of_Earning_Members = df[\"No_of_Earning_Members\"].dropna()\n",
        "plt.boxplot(No_of_Earning_Members);"
      ],
      "metadata": {
        "colab": {
          "base_uri": "https://localhost:8080/",
          "height": 265
        },
        "id": "T9wfjk2GpGPi",
        "outputId": "ed3e251e-94c2-4ddf-d413-4fc50946a22c"
      },
      "execution_count": null,
      "outputs": [
        {
          "output_type": "display_data",
          "data": {
            "text/plain": [
              "<Figure size 432x288 with 1 Axes>"
            ],
            "image/png": "[encoded data removed]"
          },
          "metadata": {
            "needs_background": "light"
          }
        }
      ]
    },
    {
      "cell_type": "code",
      "source": [
        "#Tính độ tương quan (correlation) giữa các cột định lượng\n",
        "\n",
        "corr = df.corr(method='pearson')\n",
        "corr"
      ],
      "metadata": {
        "colab": {
          "base_uri": "https://localhost:8080/",
          "height": 237
        },
        "id": "jq9EbixupIuY",
        "outputId": "b7f99bb1-5319-4914-aac9-4e5b338925ce"
      },
      "execution_count": null,
      "outputs": [
        {
          "output_type": "execute_result",
          "data": {
            "text/plain": [
              "                       Mthly_HH_Income  Mthly_HH_Expense  No_of_Fly_Members  \\\n",
              "Mthly_HH_Income               1.000000          0.649215           0.448317   \n",
              "Mthly_HH_Expense              0.649215          1.000000           0.639702   \n",
              "No_of_Fly_Members             0.448317          0.639702           1.000000   \n",
              "Emi_or_Rent_Amt               0.036976          0.405280           0.085808   \n",
              "Annual_HH_Income              0.970315          0.591222           0.430868   \n",
              "No_of_Earning_Members         0.347883          0.311915           0.597482   \n",
              "\n",
              "                       Emi_or_Rent_Amt  Annual_HH_Income  \\\n",
              "Mthly_HH_Income               0.036976          0.970315   \n",
              "Mthly_HH_Expense              0.405280          0.591222   \n",
              "No_of_Fly_Members             0.085808          0.430868   \n",
              "Emi_or_Rent_Amt               1.000000          0.002716   \n",
              "Annual_HH_Income              0.002716          1.000000   \n",
              "No_of_Earning_Members        -0.097431          0.296679   \n",
              "\n",
              "                       No_of_Earning_Members  \n",
              "Mthly_HH_Income                     0.347883  \n",
              "Mthly_HH_Expense                    0.311915  \n",
              "No_of_Fly_Members                   0.597482  \n",
              "Emi_or_Rent_Amt                    -0.097431  \n",
              "Annual_HH_Income                    0.296679  \n",
              "No_of_Earning_Members               1.000000  "
            ],
            "text/html": [
              "\n",
              "  <div id=\"df-ba93bec5-1876-4591-a4a0-9f5dd11e5888\">\n",
              "    <div class=\"colab-df-container\">\n",
              "      <div>\n",
              "<style scoped>\n",
              "    .dataframe tbody tr th:only-of-type {\n",
              "        vertical-align: middle;\n",
              "    }\n",
              "\n",
              "    .dataframe tbody tr th {\n",
              "        vertical-align: top;\n",
              "    }\n",
              "\n",
              "    .dataframe thead th {\n",
              "        text-align: right;\n",
              "    }\n",
              "</style>\n",
              "<table border=\"1\" class=\"dataframe\">\n",
              "  <thead>\n",
              "    <tr style=\"text-align: right;\">\n",
              "      <th></th>\n",
              "      <th>Mthly_HH_Income</th>\n",
              "      <th>Mthly_HH_Expense</th>\n",
              "      <th>No_of_Fly_Members</th>\n",
              "      <th>Emi_or_Rent_Amt</th>\n",
              "      <th>Annual_HH_Income</th>\n",
              "      <th>No_of_Earning_Members</th>\n",
              "    </tr>\n",
              "  </thead>\n",
              "  <tbody>\n",
              "    <tr>\n",
              "      <th>Mthly_HH_Income</th>\n",
              "      <td>1.000000</td>\n",
              "      <td>0.649215</td>\n",
              "      <td>0.448317</td>\n",
              "      <td>0.036976</td>\n",
              "      <td>0.970315</td>\n",
              "      <td>0.347883</td>\n",
              "    </tr>\n",
              "    <tr>\n",
              "      <th>Mthly_HH_Expense</th>\n",
              "      <td>0.649215</td>\n",
              "      <td>1.000000</td>\n",
              "      <td>0.639702</td>\n",
              "      <td>0.405280</td>\n",
              "      <td>0.591222</td>\n",
              "      <td>0.311915</td>\n",
              "    </tr>\n",
              "    <tr>\n",
              "      <th>No_of_Fly_Members</th>\n",
              "      <td>0.448317</td>\n",
              "      <td>0.639702</td>\n",
              "      <td>1.000000</td>\n",
              "      <td>0.085808</td>\n",
              "      <td>0.430868</td>\n",
              "      <td>0.597482</td>\n",
              "    </tr>\n",
              "    <tr>\n",
              "      <th>Emi_or_Rent_Amt</th>\n",
              "      <td>0.036976</td>\n",
              "      <td>0.405280</td>\n",
              "      <td>0.085808</td>\n",
              "      <td>1.000000</td>\n",
              "      <td>0.002716</td>\n",
              "      <td>-0.097431</td>\n",
              "    </tr>\n",
              "    <tr>\n",
              "      <th>Annual_HH_Income</th>\n",
              "      <td>0.970315</td>\n",
              "      <td>0.591222</td>\n",
              "      <td>0.430868</td>\n",
              "      <td>0.002716</td>\n",
              "      <td>1.000000</td>\n",
              "      <td>0.296679</td>\n",
              "    </tr>\n",
              "    <tr>\n",
              "      <th>No_of_Earning_Members</th>\n",
              "      <td>0.347883</td>\n",
              "      <td>0.311915</td>\n",
              "      <td>0.597482</td>\n",
              "      <td>-0.097431</td>\n",
              "      <td>0.296679</td>\n",
              "      <td>1.000000</td>\n",
              "    </tr>\n",
              "  </tbody>\n",
              "</table>\n",
              "</div>\n",
              "      <button class=\"colab-df-convert\" onclick=\"convertToInteractive('df-ba93bec5-1876-4591-a4a0-9f5dd11e5888')\"\n",
              "              title=\"Convert this dataframe to an interactive table.\"\n",
              "              style=\"display:none;\">\n",
              "        \n",
              "  <svg xmlns=\"http://www.w3.org/2000/svg\" height=\"24px\"viewBox=\"0 0 24 24\"\n",
              "       width=\"24px\">\n",
              "    <path d=\"M0 0h24v24H0V0z\" fill=\"none\"/>\n",
              "    <path d=\"M18.56 5.44l.94 2.06.94-2.06 2.06-.94-2.06-.94-.94-2.06-.94 2.06-2.06.94zm-11 1L8.5 8.5l.94-2.06 2.06-.94-2.06-.94L8.5 2.5l-.94 2.06-2.06.94zm10 10l.94 2.06.94-2.06 2.06-.94-2.06-.94-.94-2.06-.94 2.06-2.06.94z\"/><path d=\"M17.41 7.96l-1.37-1.37c-.4-.4-.92-.59-1.43-.59-.52 0-1.04.2-1.43.59L10.3 9.45l-7.72 7.72c-.78.78-.78 2.05 0 2.83L4 21.41c.39.39.9.59 1.41.59.51 0 1.02-.2 1.41-.59l7.78-7.78 2.81-2.81c.8-.78.8-2.07 0-2.86zM5.41 20L4 18.59l7.72-7.72 1.47 1.35L5.41 20z\"/>\n",
              "  </svg>\n",
              "      </button>\n",
              "      \n",
              "  <style>\n",
              "    .colab-df-container {\n",
              "      display:flex;\n",
              "      flex-wrap:wrap;\n",
              "      gap: 12px;\n",
              "    }\n",
              "\n",
              "    .colab-df-convert {\n",
              "      background-color: #E8F0FE;\n",
              "      border: none;\n",
              "      border-radius: 50%;\n",
              "      cursor: pointer;\n",
              "      display: none;\n",
              "      fill: #1967D2;\n",
              "      height: 32px;\n",
              "      padding: 0 0 0 0;\n",
              "      width: 32px;\n",
              "    }\n",
              "\n",
              "    .colab-df-convert:hover {\n",
              "      background-color: #E2EBFA;\n",
              "      box-shadow: 0px 1px 2px rgba(60, 64, 67, 0.3), 0px 1px 3px 1px rgba(60, 64, 67, 0.15);\n",
              "      fill: #174EA6;\n",
              "    }\n",
              "\n",
              "    [theme=dark] .colab-df-convert {\n",
              "      background-color: #3B4455;\n",
              "      fill: #D2E3FC;\n",
              "    }\n",
              "\n",
              "    [theme=dark] .colab-df-convert:hover {\n",
              "      background-color: #434B5C;\n",
              "      box-shadow: 0px 1px 3px 1px rgba(0, 0, 0, 0.15);\n",
              "      filter: drop-shadow(0px 1px 2px rgba(0, 0, 0, 0.3));\n",
              "      fill: #FFFFFF;\n",
              "    }\n",
              "  </style>\n",
              "\n",
              "      <script>\n",
              "        const buttonEl =\n",
              "          document.querySelector('#df-ba93bec5-1876-4591-a4a0-9f5dd11e5888 button.colab-df-convert');\n",
              "        buttonEl.style.display =\n",
              "          google.colab.kernel.accessAllowed ? 'block' : 'none';\n",
              "\n",
              "        async function convertToInteractive(key) {\n",
              "          const element = document.querySelector('#df-ba93bec5-1876-4591-a4a0-9f5dd11e5888');\n",
              "          const dataTable =\n",
              "            await google.colab.kernel.invokeFunction('convertToInteractive',\n",
              "                                                     [key], {});\n",
              "          if (!dataTable) return;\n",
              "\n",
              "          const docLinkHtml = 'Like what you see? Visit the ' +\n",
              "            '<a target=\"_blank\" href=https://colab.research.google.com/notebooks/data_table.ipynb>data table notebook</a>'\n",
              "            + ' to learn more about interactive tables.';\n",
              "          element.innerHTML = '';\n",
              "          dataTable['output_type'] = 'display_data';\n",
              "          await google.colab.output.renderOutput(dataTable, element);\n",
              "          const docLink = document.createElement('div');\n",
              "          docLink.innerHTML = docLinkHtml;\n",
              "          element.appendChild(docLink);\n",
              "        }\n",
              "      </script>\n",
              "    </div>\n",
              "  </div>\n",
              "  "
            ]
          },
          "metadata": {},
          "execution_count": 13
        }
      ]
    },
    {
      "cell_type": "code",
      "source": [
        "#Từ bảng 'correlation matrix' vẽ heat map (biểu đồ nhiệt)\n",
        "\n",
        "sns.heatmap(corr, vmin=-1, vmax=1, cmap=sns.diverging_palette(20, 220, as_cmap=True));"
      ],
      "metadata": {
        "colab": {
          "base_uri": "https://localhost:8080/",
          "height": 382
        },
        "id": "Jkz_VI_HpfPQ",
        "outputId": "26e40b4d-e628-4986-d18d-e2c01a311f12"
      },
      "execution_count": null,
      "outputs": [
        {
          "output_type": "display_data",
          "data": {
            "text/plain": [
              "<Figure size 432x288 with 2 Axes>"
            ],
            "image/png": "[encoded data removed]"
          },
          "metadata": {
            "needs_background": "light"
          }
        }
      ]
    },
    {
      "cell_type": "code",
      "source": [
        "#Từ correlation matrix vẽ pair plot (biểu đồ cặp)\n",
        "\n",
        "\n",
        "%matplotlib inline \n",
        "sns.pairplot(df)\n",
        "\t    \n",
        "\n"
      ],
      "metadata": {
        "colab": {
          "base_uri": "https://localhost:8080/",
          "height": 1000
        },
        "id": "4Vxyf7-7avHn",
        "outputId": "2722a46a-6d67-48ac-8313-1a1fc35b9a5c"
      },
      "execution_count": null,
      "outputs": [
        {
          "output_type": "execute_result",
          "data": {
            "text/plain": [
              "<seaborn.axisgrid.PairGrid at 0x7fd36510de50>"
            ]
          },
          "metadata": {},
          "execution_count": 15
        },
        {
          "output_type": "display_data",
          "data": {
            "text/plain": [
              "<Figure size 1080x1080 with 42 Axes>"
            ],
            "image/png": "[encoded data removed]"
          },
          "metadata": {
            "needs_background": "light"
          }
        }
      ]
    },
    {
      "cell_type": "code",
      "source": [
        "#Cộng đa tuyến:\n",
        "\n",
        "import statsmodels.formula.api as sma \n",
        "\n",
        "m_linear_mod = sma.ols( formula = \"Mthly_HH_Expense ~ Mthly_HH_Income + No_of_Fly_Members + Emi_or_Rent_Amt\", data = df).fit() \n",
        "\n",
        "m_linear_mod.summary()\n"
      ],
      "metadata": {
        "colab": {
          "base_uri": "https://localhost:8080/",
          "height": 561
        },
        "id": "B0tRah3s2h5r",
        "outputId": "42148d71-857d-44be-ccde-38443239a101"
      },
      "execution_count": null,
      "outputs": [
        {
          "output_type": "stream",
          "name": "stderr",
          "text": [
            "/usr/local/lib/python3.7/dist-packages/statsmodels/tools/_testing.py:19: FutureWarning: pandas.util.testing is deprecated. Use the functions in the public API at pandas.testing instead.\n",
            "  import pandas.util.testing as tm\n"
          ]
        },
        {
          "output_type": "execute_result",
          "data": {
            "text/plain": [
              "<class 'statsmodels.iolib.summary.Summary'>\n",
              "\"\"\"\n",
              "                            OLS Regression Results                            \n",
              "==============================================================================\n",
              "Dep. Variable:       Mthly_HH_Expense   R-squared:                       0.698\n",
              "Model:                            OLS   Adj. R-squared:                  0.678\n",
              "Method:                 Least Squares   F-statistic:                     35.40\n",
              "Date:                Tue, 31 May 2022   Prob (F-statistic):           5.17e-12\n",
              "Time:                        17:02:33   Log-Likelihood:                -510.53\n",
              "No. Observations:                  50   AIC:                             1029.\n",
              "Df Residuals:                      46   BIC:                             1037.\n",
              "Df Model:                           3                                         \n",
              "Covariance Type:            nonrobust                                         \n",
              "=====================================================================================\n",
              "                        coef    std err          t      P>|t|      [0.025      0.975]\n",
              "-------------------------------------------------------------------------------------\n",
              "Intercept         -5148.0704   2840.472     -1.812      0.076   -1.09e+04     569.503\n",
              "Mthly_HH_Income       0.2104      0.042      5.009      0.000       0.126       0.295\n",
              "No_of_Fly_Members  3232.5739    724.699      4.461      0.000    1773.830    4691.318\n",
              "Emi_or_Rent_Amt       0.6851      0.158      4.347      0.000       0.368       1.002\n",
              "==============================================================================\n",
              "Omnibus:                        0.916   Durbin-Watson:                   2.326\n",
              "Prob(Omnibus):                  0.633   Jarque-Bera (JB):                0.560\n",
              "Skew:                           0.258   Prob(JB):                        0.756\n",
              "Kurtosis:                       3.041   Cond. No.                     1.46e+05\n",
              "==============================================================================\n",
              "\n",
              "Warnings:\n",
              "[1] Standard Errors assume that the covariance matrix of the errors is correctly specified.\n",
              "[2] The condition number is large, 1.46e+05. This might indicate that there are\n",
              "strong multicollinearity or other numerical problems.\n",
              "\"\"\""
            ],
            "text/html": [
              "<table class=\"simpletable\">\n",
              "<caption>OLS Regression Results</caption>\n",
              "<tr>\n",
              "  <th>Dep. Variable:</th>    <td>Mthly_HH_Expense</td> <th>  R-squared:         </th> <td>   0.698</td>\n",
              "</tr>\n",
              "<tr>\n",
              "  <th>Model:</th>                   <td>OLS</td>       <th>  Adj. R-squared:    </th> <td>   0.678</td>\n",
              "</tr>\n",
              "<tr>\n",
              "  <th>Method:</th>             <td>Least Squares</td>  <th>  F-statistic:       </th> <td>   35.40</td>\n",
              "</tr>\n",
              "<tr>\n",
              "  <th>Date:</th>             <td>Tue, 31 May 2022</td> <th>  Prob (F-statistic):</th> <td>5.17e-12</td>\n",
              "</tr>\n",
              "<tr>\n",
              "  <th>Time:</th>                 <td>17:02:33</td>     <th>  Log-Likelihood:    </th> <td> -510.53</td>\n",
              "</tr>\n",
              "<tr>\n",
              "  <th>No. Observations:</th>      <td>    50</td>      <th>  AIC:               </th> <td>   1029.</td>\n",
              "</tr>\n",
              "<tr>\n",
              "  <th>Df Residuals:</th>          <td>    46</td>      <th>  BIC:               </th> <td>   1037.</td>\n",
              "</tr>\n",
              "<tr>\n",
              "  <th>Df Model:</th>              <td>     3</td>      <th>                     </th>     <td> </td>   \n",
              "</tr>\n",
              "<tr>\n",
              "  <th>Covariance Type:</th>      <td>nonrobust</td>    <th>                     </th>     <td> </td>   \n",
              "</tr>\n",
              "</table>\n",
              "<table class=\"simpletable\">\n",
              "<tr>\n",
              "          <td></td>             <th>coef</th>     <th>std err</th>      <th>t</th>      <th>P>|t|</th>  <th>[0.025</th>    <th>0.975]</th>  \n",
              "</tr>\n",
              "<tr>\n",
              "  <th>Intercept</th>         <td>-5148.0704</td> <td> 2840.472</td> <td>   -1.812</td> <td> 0.076</td> <td>-1.09e+04</td> <td>  569.503</td>\n",
              "</tr>\n",
              "<tr>\n",
              "  <th>Mthly_HH_Income</th>   <td>    0.2104</td> <td>    0.042</td> <td>    5.009</td> <td> 0.000</td> <td>    0.126</td> <td>    0.295</td>\n",
              "</tr>\n",
              "<tr>\n",
              "  <th>No_of_Fly_Members</th> <td> 3232.5739</td> <td>  724.699</td> <td>    4.461</td> <td> 0.000</td> <td> 1773.830</td> <td> 4691.318</td>\n",
              "</tr>\n",
              "<tr>\n",
              "  <th>Emi_or_Rent_Amt</th>   <td>    0.6851</td> <td>    0.158</td> <td>    4.347</td> <td> 0.000</td> <td>    0.368</td> <td>    1.002</td>\n",
              "</tr>\n",
              "</table>\n",
              "<table class=\"simpletable\">\n",
              "<tr>\n",
              "  <th>Omnibus:</th>       <td> 0.916</td> <th>  Durbin-Watson:     </th> <td>   2.326</td>\n",
              "</tr>\n",
              "<tr>\n",
              "  <th>Prob(Omnibus):</th> <td> 0.633</td> <th>  Jarque-Bera (JB):  </th> <td>   0.560</td>\n",
              "</tr>\n",
              "<tr>\n",
              "  <th>Skew:</th>          <td> 0.258</td> <th>  Prob(JB):          </th> <td>   0.756</td>\n",
              "</tr>\n",
              "<tr>\n",
              "  <th>Kurtosis:</th>      <td> 3.041</td> <th>  Cond. No.          </th> <td>1.46e+05</td>\n",
              "</tr>\n",
              "</table><br/><br/>Warnings:<br/>[1] Standard Errors assume that the covariance matrix of the errors is correctly specified.<br/>[2] The condition number is large, 1.46e+05. This might indicate that there are<br/>strong multicollinearity or other numerical problems."
            ]
          },
          "metadata": {},
          "execution_count": 16
        }
      ]
    },
    {
      "cell_type": "code",
      "source": [
        "#Phương sai:\n",
        "from patsy import dmatrices \n",
        "from statsmodels.stats.outliers_influence import variance_inflation_factor as VIF\n",
        "\n",
        "y, X = dmatrices(\"\"\" Mthly_HH_Expense ~ Mthly_HH_Income  + No_of_Fly_Members + Emi_or_Rent_Amt + Annual_HH_Income\"\"\", data= df,\n",
        "     return_type=\"dataframe\") \n",
        "\n",
        "vif = pd.DataFrame([VIF(X.values, i) for i in range(X.shape[1])], \n",
        "     index=X.columns, columns=['VIF_value'])"
      ],
      "metadata": {
        "id": "E2Js4kY25t15"
      },
      "execution_count": null,
      "outputs": []
    },
    {
      "cell_type": "markdown",
      "source": [
        "Đối với các cột dữ liệu định tính:\n",
        "- 1. Vẽ biểu đồ cột dạng đứng\n",
        "- 2. Vẽ biểu đồ cột dạng ngang\n",
        "- 3. Vẽ biểu đồ Pareto"
      ],
      "metadata": {
        "id": "i86bxuARi_zQ"
      }
    },
    {
      "cell_type": "code",
      "source": [
        "#1. Vẽ biểu đồ cột dạng đứng cho Highest_Qualified_Member\n",
        "\n",
        "x = dict(df[\"Highest_Qualified_Member\"].value_counts()).keys()\n",
        "y = dict(df[\"Highest_Qualified_Member\"].value_counts()).values()\n",
        "plt.bar(x,y);"
      ],
      "metadata": {
        "colab": {
          "base_uri": "https://localhost:8080/",
          "height": 265
        },
        "id": "GTbXQt8OqEAf",
        "outputId": "671729d9-37b0-4a83-e208-67813a6466d0"
      },
      "execution_count": null,
      "outputs": [
        {
          "output_type": "display_data",
          "data": {
            "text/plain": [
              "<Figure size 432x288 with 1 Axes>"
            ],
            "image/png": "[encoded data removed]"
          },
          "metadata": {
            "needs_background": "light"
          }
        }
      ]
    },
    {
      "cell_type": "code",
      "source": [
        "#2. Vẽ biểu đồ cột dạng ngang cho Highest_Qualified_Member\n",
        "x = dict(df[\"Highest_Qualified_Member\"].value_counts()).keys()\n",
        "y = dict(df[\"Highest_Qualified_Member\"].value_counts()).values()\n",
        "plt.barh(list(x),list(y));"
      ],
      "metadata": {
        "colab": {
          "base_uri": "https://localhost:8080/",
          "height": 265
        },
        "id": "QyBlE5hwqG50",
        "outputId": "effd6761-ae34-41c5-ef44-b61fea4e15ad"
      },
      "execution_count": null,
      "outputs": [
        {
          "output_type": "display_data",
          "data": {
            "text/plain": [
              "<Figure size 432x288 with 1 Axes>"
            ],
            "image/png": "[encoded data removed]"
          },
          "metadata": {
            "needs_background": "light"
          }
        }
      ]
    },
    {
      "cell_type": "markdown",
      "source": [
        "**Vẽ biểu đồ Pareto cho Highest_Qualified_Member**\n",
        "\n"
      ],
      "metadata": {
        "id": "AEO0521Zqz2x"
      }
    },
    {
      "cell_type": "code",
      "source": [
        "#Thực hiện việc lập bảng tần số và phân trăm tích lũy tương ứng như sau:\n",
        "\n",
        "Pareto_data = pd.DataFrame()\n",
        "Pareto_data[\"count\"] = df[\"Highest_Qualified_Member\"].value_counts().sort_values(ascending=False)\n",
        "Pareto_data['cumperc'] = Pareto_data['count'].cumsum()/Pareto_data['count'].sum()*100\n",
        "Pareto_data"
      ],
      "metadata": {
        "colab": {
          "base_uri": "https://localhost:8080/",
          "height": 206
        },
        "id": "eWJMzTddrMp0",
        "outputId": "826a9732-5550-4fd0-b987-292729e5bdf3"
      },
      "execution_count": null,
      "outputs": [
        {
          "output_type": "execute_result",
          "data": {
            "text/plain": [
              "                count  cumperc\n",
              "Graduate           19     38.0\n",
              "Under-Graduate     10     58.0\n",
              "Professional       10     78.0\n",
              "Post-Graduate       6     90.0\n",
              "Illiterate          5    100.0"
            ],
            "text/html": [
              "\n",
              "  <div id=\"df-bccffc67-4333-4fb3-a5b0-12d678ac83c4\">\n",
              "    <div class=\"colab-df-container\">\n",
              "      <div>\n",
              "<style scoped>\n",
              "    .dataframe tbody tr th:only-of-type {\n",
              "        vertical-align: middle;\n",
              "    }\n",
              "\n",
              "    .dataframe tbody tr th {\n",
              "        vertical-align: top;\n",
              "    }\n",
              "\n",
              "    .dataframe thead th {\n",
              "        text-align: right;\n",
              "    }\n",
              "</style>\n",
              "<table border=\"1\" class=\"dataframe\">\n",
              "  <thead>\n",
              "    <tr style=\"text-align: right;\">\n",
              "      <th></th>\n",
              "      <th>count</th>\n",
              "      <th>cumperc</th>\n",
              "    </tr>\n",
              "  </thead>\n",
              "  <tbody>\n",
              "    <tr>\n",
              "      <th>Graduate</th>\n",
              "      <td>19</td>\n",
              "      <td>38.0</td>\n",
              "    </tr>\n",
              "    <tr>\n",
              "      <th>Under-Graduate</th>\n",
              "      <td>10</td>\n",
              "      <td>58.0</td>\n",
              "    </tr>\n",
              "    <tr>\n",
              "      <th>Professional</th>\n",
              "      <td>10</td>\n",
              "      <td>78.0</td>\n",
              "    </tr>\n",
              "    <tr>\n",
              "      <th>Post-Graduate</th>\n",
              "      <td>6</td>\n",
              "      <td>90.0</td>\n",
              "    </tr>\n",
              "    <tr>\n",
              "      <th>Illiterate</th>\n",
              "      <td>5</td>\n",
              "      <td>100.0</td>\n",
              "    </tr>\n",
              "  </tbody>\n",
              "</table>\n",
              "</div>\n",
              "      <button class=\"colab-df-convert\" onclick=\"convertToInteractive('df-bccffc67-4333-4fb3-a5b0-12d678ac83c4')\"\n",
              "              title=\"Convert this dataframe to an interactive table.\"\n",
              "              style=\"display:none;\">\n",
              "        \n",
              "  <svg xmlns=\"http://www.w3.org/2000/svg\" height=\"24px\"viewBox=\"0 0 24 24\"\n",
              "       width=\"24px\">\n",
              "    <path d=\"M0 0h24v24H0V0z\" fill=\"none\"/>\n",
              "    <path d=\"M18.56 5.44l.94 2.06.94-2.06 2.06-.94-2.06-.94-.94-2.06-.94 2.06-2.06.94zm-11 1L8.5 8.5l.94-2.06 2.06-.94-2.06-.94L8.5 2.5l-.94 2.06-2.06.94zm10 10l.94 2.06.94-2.06 2.06-.94-2.06-.94-.94-2.06-.94 2.06-2.06.94z\"/><path d=\"M17.41 7.96l-1.37-1.37c-.4-.4-.92-.59-1.43-.59-.52 0-1.04.2-1.43.59L10.3 9.45l-7.72 7.72c-.78.78-.78 2.05 0 2.83L4 21.41c.39.39.9.59 1.41.59.51 0 1.02-.2 1.41-.59l7.78-7.78 2.81-2.81c.8-.78.8-2.07 0-2.86zM5.41 20L4 18.59l7.72-7.72 1.47 1.35L5.41 20z\"/>\n",
              "  </svg>\n",
              "      </button>\n",
              "      \n",
              "  <style>\n",
              "    .colab-df-container {\n",
              "      display:flex;\n",
              "      flex-wrap:wrap;\n",
              "      gap: 12px;\n",
              "    }\n",
              "\n",
              "    .colab-df-convert {\n",
              "      background-color: #E8F0FE;\n",
              "      border: none;\n",
              "      border-radius: 50%;\n",
              "      cursor: pointer;\n",
              "      display: none;\n",
              "      fill: #1967D2;\n",
              "      height: 32px;\n",
              "      padding: 0 0 0 0;\n",
              "      width: 32px;\n",
              "    }\n",
              "\n",
              "    .colab-df-convert:hover {\n",
              "      background-color: #E2EBFA;\n",
              "      box-shadow: 0px 1px 2px rgba(60, 64, 67, 0.3), 0px 1px 3px 1px rgba(60, 64, 67, 0.15);\n",
              "      fill: #174EA6;\n",
              "    }\n",
              "\n",
              "    [theme=dark] .colab-df-convert {\n",
              "      background-color: #3B4455;\n",
              "      fill: #D2E3FC;\n",
              "    }\n",
              "\n",
              "    [theme=dark] .colab-df-convert:hover {\n",
              "      background-color: #434B5C;\n",
              "      box-shadow: 0px 1px 3px 1px rgba(0, 0, 0, 0.15);\n",
              "      filter: drop-shadow(0px 1px 2px rgba(0, 0, 0, 0.3));\n",
              "      fill: #FFFFFF;\n",
              "    }\n",
              "  </style>\n",
              "\n",
              "      <script>\n",
              "        const buttonEl =\n",
              "          document.querySelector('#df-bccffc67-4333-4fb3-a5b0-12d678ac83c4 button.colab-df-convert');\n",
              "        buttonEl.style.display =\n",
              "          google.colab.kernel.accessAllowed ? 'block' : 'none';\n",
              "\n",
              "        async function convertToInteractive(key) {\n",
              "          const element = document.querySelector('#df-bccffc67-4333-4fb3-a5b0-12d678ac83c4');\n",
              "          const dataTable =\n",
              "            await google.colab.kernel.invokeFunction('convertToInteractive',\n",
              "                                                     [key], {});\n",
              "          if (!dataTable) return;\n",
              "\n",
              "          const docLinkHtml = 'Like what you see? Visit the ' +\n",
              "            '<a target=\"_blank\" href=https://colab.research.google.com/notebooks/data_table.ipynb>data table notebook</a>'\n",
              "            + ' to learn more about interactive tables.';\n",
              "          element.innerHTML = '';\n",
              "          dataTable['output_type'] = 'display_data';\n",
              "          await google.colab.output.renderOutput(dataTable, element);\n",
              "          const docLink = document.createElement('div');\n",
              "          docLink.innerHTML = docLinkHtml;\n",
              "          element.appendChild(docLink);\n",
              "        }\n",
              "      </script>\n",
              "    </div>\n",
              "  </div>\n",
              "  "
            ]
          },
          "metadata": {},
          "execution_count": 20
        }
      ]
    },
    {
      "cell_type": "code",
      "source": [
        "# Vẽ biểu đồ pareto:\n",
        "\n",
        "color1 = 'steelblue'\n",
        "color2 = 'red'\n",
        "line_size = 4\n",
        "\n",
        "fig, ax = plt.subplots()\n",
        "ax.bar(Pareto_data.index, Pareto_data['count'], color=color1)\n",
        "\n",
        "ax2 = ax.twinx()\n",
        "ax2.plot(Pareto_data.index, Pareto_data['cumperc'], color=color2, marker=\"D\", ms=line_size)\n",
        "\n",
        "ax.tick_params(axis='y', colors=color1)\n",
        "ax2.tick_params(axis='y', colors=color2)"
      ],
      "metadata": {
        "colab": {
          "base_uri": "https://localhost:8080/",
          "height": 265
        },
        "id": "uiWIBDBurtAK",
        "outputId": "35b5b84e-f79a-4592-e2e4-a766d3085fa2"
      },
      "execution_count": null,
      "outputs": [
        {
          "output_type": "display_data",
          "data": {
            "text/plain": [
              "<Figure size 432x288 with 2 Axes>"
            ],
            "image/png": "[encoded data removed]"
          },
          "metadata": {
            "needs_background": "light"
          }
        }
      ]
    },
    {
      "cell_type": "code",
      "source": [
        ""
      ],
      "metadata": {
        "id": "OcxBuUmVrw2m"
      },
      "execution_count": null,
      "outputs": []
    },
    {
      "cell_type": "markdown",
      "source": [
        "### **2. Sử dụng tập tin Diet_R.csv để thực hiện phân tích thống kê suy diễn - ANOVA một chiều.**"
      ],
      "metadata": {
        "id": "h1w6LCW-rzXk"
      }
    },
    {
      "cell_type": "code",
      "source": [
        "#Các thư viện cần thiết \n",
        "\n",
        "\n",
        "import pandas as pd  \n",
        "import matplotlib.pyplot as plt  \n",
        "import statsmodels.api as sm  \n",
        "from statsmodels.formula.api import ols  \n",
        "import seaborn as sns  \n",
        "import numpy as np  \n",
        "from scipy import stats\n"
      ],
      "metadata": {
        "id": "45hM9G7Xr0xl"
      },
      "execution_count": null,
      "outputs": []
    },
    {
      "cell_type": "code",
      "source": [
        "mydata = pd.read_csv(\"/content/drive/MyDrive/ĐỒ ÁN PYTHON HK2 (2022)/Diet_R.csv\")"
      ],
      "metadata": {
        "id": "8FL3yrsBsLJq"
      },
      "execution_count": null,
      "outputs": []
    },
    {
      "cell_type": "code",
      "source": [
        "#Hiển thị dữ liệu:\n",
        "print(mydata.head())  \n"
      ],
      "metadata": {
        "colab": {
          "base_uri": "https://localhost:8080/"
        },
        "id": "OizO1n2lG2-c",
        "outputId": "0c18dec1-b6bd-4768-e5a6-d44c303f65c2"
      },
      "execution_count": null,
      "outputs": [
        {
          "output_type": "stream",
          "name": "stdout",
          "text": [
            "   Person gender  Age  Height  pre.weight  Diet  weight6weeks\n",
            "0      25          41     171          60     2          60.0\n",
            "1      26          32     174         103     2         103.0\n",
            "2       1      0   22     159          58     1          54.2\n",
            "3       2      0   46     192          60     1          54.0\n",
            "4       3      0   55     170          64     1          63.3\n"
          ]
        }
      ]
    },
    {
      "cell_type": "code",
      "source": [
        "#Xuất ra 5 dòng dữ liệu:\n",
        "print('The total number of rows in the dataset:', mydata.size)  "
      ],
      "metadata": {
        "colab": {
          "base_uri": "https://localhost:8080/"
        },
        "id": "cyH83mqsscck",
        "outputId": "9db85b65-0220-4ad9-ad4a-557339a82619"
      },
      "execution_count": null,
      "outputs": [
        {
          "output_type": "stream",
          "name": "stdout",
          "text": [
            "The total number of rows in the dataset: 546\n"
          ]
        }
      ]
    },
    {
      "cell_type": "code",
      "source": [
        "#Tổng phần trăm giá trị dữ liệu bị thiếu:\n",
        "print('Percentage of missing values in the dataset: {:.2f}%'.format(mydata[mydata.gender == ' '].size / mydata.size * 100))  "
      ],
      "metadata": {
        "colab": {
          "base_uri": "https://localhost:8080/"
        },
        "id": "1ENB36fKHfrd",
        "outputId": "0dbf5f78-5c05-409d-f450-633a1a2f8c77"
      },
      "execution_count": null,
      "outputs": [
        {
          "output_type": "stream",
          "name": "stdout",
          "text": [
            "Percentage of missing values in the dataset: 2.56%\n"
          ]
        }
      ]
    },
    {
      "cell_type": "code",
      "source": [
        "#Kiểm tra các giá trị còn thiếu:\n",
        "\n",
        "print(mydata.gender.unique())   \n",
        "print(mydata[mydata.gender == ' '])"
      ],
      "metadata": {
        "colab": {
          "base_uri": "https://localhost:8080/"
        },
        "id": "gO4M3NcAHMPp",
        "outputId": "1a2f4422-f626-427b-8e04-dbcf63ff6f8d"
      },
      "execution_count": null,
      "outputs": [
        {
          "output_type": "stream",
          "name": "stdout",
          "text": [
            "[' ' '0' '1']\n",
            "   Person gender  Age  Height  pre.weight  Diet  weight6weeks\n",
            "0      25          41     171          60     2          60.0\n",
            "1      26          32     174         103     2         103.0\n"
          ]
        }
      ]
    },
    {
      "cell_type": "code",
      "source": [
        "mydata.describe()"
      ],
      "metadata": {
        "colab": {
          "base_uri": "https://localhost:8080/",
          "height": 300
        },
        "id": "qgSLQZUasoKl",
        "outputId": "1cdcd4e2-9155-482c-fef2-9d4485321133"
      },
      "execution_count": null,
      "outputs": [
        {
          "output_type": "execute_result",
          "data": {
            "text/plain": [
              "          Person        Age      Height  pre.weight       Diet  weight6weeks\n",
              "count  78.000000  78.000000   78.000000   78.000000  78.000000     78.000000\n",
              "mean   39.500000  39.153846  170.820513   72.525641   2.038462     68.680769\n",
              "std    22.660538   9.815277   11.276621    8.723344   0.812920      8.924504\n",
              "min     1.000000  16.000000  141.000000   58.000000   1.000000     53.000000\n",
              "25%    20.250000  32.250000  164.250000   66.000000   1.000000     61.850000\n",
              "50%    39.500000  39.000000  169.500000   72.000000   2.000000     68.950000\n",
              "75%    58.750000  46.750000  174.750000   78.000000   3.000000     73.825000\n",
              "max    78.000000  60.000000  201.000000  103.000000   3.000000    103.000000"
            ],
            "text/html": [
              "\n",
              "  <div id=\"df-0f78e5f6-c53c-4c5f-8cdb-1ef98ed4bd22\">\n",
              "    <div class=\"colab-df-container\">\n",
              "      <div>\n",
              "<style scoped>\n",
              "    .dataframe tbody tr th:only-of-type {\n",
              "        vertical-align: middle;\n",
              "    }\n",
              "\n",
              "    .dataframe tbody tr th {\n",
              "        vertical-align: top;\n",
              "    }\n",
              "\n",
              "    .dataframe thead th {\n",
              "        text-align: right;\n",
              "    }\n",
              "</style>\n",
              "<table border=\"1\" class=\"dataframe\">\n",
              "  <thead>\n",
              "    <tr style=\"text-align: right;\">\n",
              "      <th></th>\n",
              "      <th>Person</th>\n",
              "      <th>Age</th>\n",
              "      <th>Height</th>\n",
              "      <th>pre.weight</th>\n",
              "      <th>Diet</th>\n",
              "      <th>weight6weeks</th>\n",
              "    </tr>\n",
              "  </thead>\n",
              "  <tbody>\n",
              "    <tr>\n",
              "      <th>count</th>\n",
              "      <td>78.000000</td>\n",
              "      <td>78.000000</td>\n",
              "      <td>78.000000</td>\n",
              "      <td>78.000000</td>\n",
              "      <td>78.000000</td>\n",
              "      <td>78.000000</td>\n",
              "    </tr>\n",
              "    <tr>\n",
              "      <th>mean</th>\n",
              "      <td>39.500000</td>\n",
              "      <td>39.153846</td>\n",
              "      <td>170.820513</td>\n",
              "      <td>72.525641</td>\n",
              "      <td>2.038462</td>\n",
              "      <td>68.680769</td>\n",
              "    </tr>\n",
              "    <tr>\n",
              "      <th>std</th>\n",
              "      <td>22.660538</td>\n",
              "      <td>9.815277</td>\n",
              "      <td>11.276621</td>\n",
              "      <td>8.723344</td>\n",
              "      <td>0.812920</td>\n",
              "      <td>8.924504</td>\n",
              "    </tr>\n",
              "    <tr>\n",
              "      <th>min</th>\n",
              "      <td>1.000000</td>\n",
              "      <td>16.000000</td>\n",
              "      <td>141.000000</td>\n",
              "      <td>58.000000</td>\n",
              "      <td>1.000000</td>\n",
              "      <td>53.000000</td>\n",
              "    </tr>\n",
              "    <tr>\n",
              "      <th>25%</th>\n",
              "      <td>20.250000</td>\n",
              "      <td>32.250000</td>\n",
              "      <td>164.250000</td>\n",
              "      <td>66.000000</td>\n",
              "      <td>1.000000</td>\n",
              "      <td>61.850000</td>\n",
              "    </tr>\n",
              "    <tr>\n",
              "      <th>50%</th>\n",
              "      <td>39.500000</td>\n",
              "      <td>39.000000</td>\n",
              "      <td>169.500000</td>\n",
              "      <td>72.000000</td>\n",
              "      <td>2.000000</td>\n",
              "      <td>68.950000</td>\n",
              "    </tr>\n",
              "    <tr>\n",
              "      <th>75%</th>\n",
              "      <td>58.750000</td>\n",
              "      <td>46.750000</td>\n",
              "      <td>174.750000</td>\n",
              "      <td>78.000000</td>\n",
              "      <td>3.000000</td>\n",
              "      <td>73.825000</td>\n",
              "    </tr>\n",
              "    <tr>\n",
              "      <th>max</th>\n",
              "      <td>78.000000</td>\n",
              "      <td>60.000000</td>\n",
              "      <td>201.000000</td>\n",
              "      <td>103.000000</td>\n",
              "      <td>3.000000</td>\n",
              "      <td>103.000000</td>\n",
              "    </tr>\n",
              "  </tbody>\n",
              "</table>\n",
              "</div>\n",
              "      <button class=\"colab-df-convert\" onclick=\"convertToInteractive('df-0f78e5f6-c53c-4c5f-8cdb-1ef98ed4bd22')\"\n",
              "              title=\"Convert this dataframe to an interactive table.\"\n",
              "              style=\"display:none;\">\n",
              "        \n",
              "  <svg xmlns=\"http://www.w3.org/2000/svg\" height=\"24px\"viewBox=\"0 0 24 24\"\n",
              "       width=\"24px\">\n",
              "    <path d=\"M0 0h24v24H0V0z\" fill=\"none\"/>\n",
              "    <path d=\"M18.56 5.44l.94 2.06.94-2.06 2.06-.94-2.06-.94-.94-2.06-.94 2.06-2.06.94zm-11 1L8.5 8.5l.94-2.06 2.06-.94-2.06-.94L8.5 2.5l-.94 2.06-2.06.94zm10 10l.94 2.06.94-2.06 2.06-.94-2.06-.94-.94-2.06-.94 2.06-2.06.94z\"/><path d=\"M17.41 7.96l-1.37-1.37c-.4-.4-.92-.59-1.43-.59-.52 0-1.04.2-1.43.59L10.3 9.45l-7.72 7.72c-.78.78-.78 2.05 0 2.83L4 21.41c.39.39.9.59 1.41.59.51 0 1.02-.2 1.41-.59l7.78-7.78 2.81-2.81c.8-.78.8-2.07 0-2.86zM5.41 20L4 18.59l7.72-7.72 1.47 1.35L5.41 20z\"/>\n",
              "  </svg>\n",
              "      </button>\n",
              "      \n",
              "  <style>\n",
              "    .colab-df-container {\n",
              "      display:flex;\n",
              "      flex-wrap:wrap;\n",
              "      gap: 12px;\n",
              "    }\n",
              "\n",
              "    .colab-df-convert {\n",
              "      background-color: #E8F0FE;\n",
              "      border: none;\n",
              "      border-radius: 50%;\n",
              "      cursor: pointer;\n",
              "      display: none;\n",
              "      fill: #1967D2;\n",
              "      height: 32px;\n",
              "      padding: 0 0 0 0;\n",
              "      width: 32px;\n",
              "    }\n",
              "\n",
              "    .colab-df-convert:hover {\n",
              "      background-color: #E2EBFA;\n",
              "      box-shadow: 0px 1px 2px rgba(60, 64, 67, 0.3), 0px 1px 3px 1px rgba(60, 64, 67, 0.15);\n",
              "      fill: #174EA6;\n",
              "    }\n",
              "\n",
              "    [theme=dark] .colab-df-convert {\n",
              "      background-color: #3B4455;\n",
              "      fill: #D2E3FC;\n",
              "    }\n",
              "\n",
              "    [theme=dark] .colab-df-convert:hover {\n",
              "      background-color: #434B5C;\n",
              "      box-shadow: 0px 1px 3px 1px rgba(0, 0, 0, 0.15);\n",
              "      filter: drop-shadow(0px 1px 2px rgba(0, 0, 0, 0.3));\n",
              "      fill: #FFFFFF;\n",
              "    }\n",
              "  </style>\n",
              "\n",
              "      <script>\n",
              "        const buttonEl =\n",
              "          document.querySelector('#df-0f78e5f6-c53c-4c5f-8cdb-1ef98ed4bd22 button.colab-df-convert');\n",
              "        buttonEl.style.display =\n",
              "          google.colab.kernel.accessAllowed ? 'block' : 'none';\n",
              "\n",
              "        async function convertToInteractive(key) {\n",
              "          const element = document.querySelector('#df-0f78e5f6-c53c-4c5f-8cdb-1ef98ed4bd22');\n",
              "          const dataTable =\n",
              "            await google.colab.kernel.invokeFunction('convertToInteractive',\n",
              "                                                     [key], {});\n",
              "          if (!dataTable) return;\n",
              "\n",
              "          const docLinkHtml = 'Like what you see? Visit the ' +\n",
              "            '<a target=\"_blank\" href=https://colab.research.google.com/notebooks/data_table.ipynb>data table notebook</a>'\n",
              "            + ' to learn more about interactive tables.';\n",
              "          element.innerHTML = '';\n",
              "          dataTable['output_type'] = 'display_data';\n",
              "          await google.colab.output.renderOutput(dataTable, element);\n",
              "          const docLink = document.createElement('div');\n",
              "          docLink.innerHTML = docLinkHtml;\n",
              "          element.appendChild(docLink);\n",
              "        }\n",
              "      </script>\n",
              "    </div>\n",
              "  </div>\n",
              "  "
            ]
          },
          "metadata": {},
          "execution_count": 57
        }
      ]
    },
    {
      "cell_type": "markdown",
      "source": [
        "**Câu hỏi:** chế độ ăn kiêng nào tốt nhất để giảm cân? Dựa vào bảng số liệu nhận thấy có 3 chế độ. Vì vậy cần chia dữ liệu thành các nhóm có liên quan đến 3 chế độ này.\n",
        "\n",
        "Từ các nhóm trên chúng ta sẽ tiến hành phân tích thông kê suy diễn ANOVA một chiều"
      ],
      "metadata": {
        "id": "4xTWtqbWyFPo"
      }
    },
    {
      "cell_type": "code",
      "source": [
        "mydata.drop('Person', axis= 1, inplace= True)\n",
        "mydata.head()"
      ],
      "metadata": {
        "colab": {
          "base_uri": "https://localhost:8080/",
          "height": 206
        },
        "id": "pXcNJaFmtJGi",
        "outputId": "ebc73472-9f44-4e29-855c-7f5699764f08"
      },
      "execution_count": null,
      "outputs": [
        {
          "output_type": "execute_result",
          "data": {
            "text/plain": [
              "  gender  Age  Height  pre.weight  Diet  weight6weeks\n",
              "0          41     171          60     2          60.0\n",
              "1          32     174         103     2         103.0\n",
              "2      0   22     159          58     1          54.2\n",
              "3      0   46     192          60     1          54.0\n",
              "4      0   55     170          64     1          63.3"
            ],
            "text/html": [
              "\n",
              "  <div id=\"df-126fd889-9c07-4f28-a36f-89f5c1980699\">\n",
              "    <div class=\"colab-df-container\">\n",
              "      <div>\n",
              "<style scoped>\n",
              "    .dataframe tbody tr th:only-of-type {\n",
              "        vertical-align: middle;\n",
              "    }\n",
              "\n",
              "    .dataframe tbody tr th {\n",
              "        vertical-align: top;\n",
              "    }\n",
              "\n",
              "    .dataframe thead th {\n",
              "        text-align: right;\n",
              "    }\n",
              "</style>\n",
              "<table border=\"1\" class=\"dataframe\">\n",
              "  <thead>\n",
              "    <tr style=\"text-align: right;\">\n",
              "      <th></th>\n",
              "      <th>gender</th>\n",
              "      <th>Age</th>\n",
              "      <th>Height</th>\n",
              "      <th>pre.weight</th>\n",
              "      <th>Diet</th>\n",
              "      <th>weight6weeks</th>\n",
              "    </tr>\n",
              "  </thead>\n",
              "  <tbody>\n",
              "    <tr>\n",
              "      <th>0</th>\n",
              "      <td></td>\n",
              "      <td>41</td>\n",
              "      <td>171</td>\n",
              "      <td>60</td>\n",
              "      <td>2</td>\n",
              "      <td>60.0</td>\n",
              "    </tr>\n",
              "    <tr>\n",
              "      <th>1</th>\n",
              "      <td></td>\n",
              "      <td>32</td>\n",
              "      <td>174</td>\n",
              "      <td>103</td>\n",
              "      <td>2</td>\n",
              "      <td>103.0</td>\n",
              "    </tr>\n",
              "    <tr>\n",
              "      <th>2</th>\n",
              "      <td>0</td>\n",
              "      <td>22</td>\n",
              "      <td>159</td>\n",
              "      <td>58</td>\n",
              "      <td>1</td>\n",
              "      <td>54.2</td>\n",
              "    </tr>\n",
              "    <tr>\n",
              "      <th>3</th>\n",
              "      <td>0</td>\n",
              "      <td>46</td>\n",
              "      <td>192</td>\n",
              "      <td>60</td>\n",
              "      <td>1</td>\n",
              "      <td>54.0</td>\n",
              "    </tr>\n",
              "    <tr>\n",
              "      <th>4</th>\n",
              "      <td>0</td>\n",
              "      <td>55</td>\n",
              "      <td>170</td>\n",
              "      <td>64</td>\n",
              "      <td>1</td>\n",
              "      <td>63.3</td>\n",
              "    </tr>\n",
              "  </tbody>\n",
              "</table>\n",
              "</div>\n",
              "      <button class=\"colab-df-convert\" onclick=\"convertToInteractive('df-126fd889-9c07-4f28-a36f-89f5c1980699')\"\n",
              "              title=\"Convert this dataframe to an interactive table.\"\n",
              "              style=\"display:none;\">\n",
              "        \n",
              "  <svg xmlns=\"http://www.w3.org/2000/svg\" height=\"24px\"viewBox=\"0 0 24 24\"\n",
              "       width=\"24px\">\n",
              "    <path d=\"M0 0h24v24H0V0z\" fill=\"none\"/>\n",
              "    <path d=\"M18.56 5.44l.94 2.06.94-2.06 2.06-.94-2.06-.94-.94-2.06-.94 2.06-2.06.94zm-11 1L8.5 8.5l.94-2.06 2.06-.94-2.06-.94L8.5 2.5l-.94 2.06-2.06.94zm10 10l.94 2.06.94-2.06 2.06-.94-2.06-.94-.94-2.06-.94 2.06-2.06.94z\"/><path d=\"M17.41 7.96l-1.37-1.37c-.4-.4-.92-.59-1.43-.59-.52 0-1.04.2-1.43.59L10.3 9.45l-7.72 7.72c-.78.78-.78 2.05 0 2.83L4 21.41c.39.39.9.59 1.41.59.51 0 1.02-.2 1.41-.59l7.78-7.78 2.81-2.81c.8-.78.8-2.07 0-2.86zM5.41 20L4 18.59l7.72-7.72 1.47 1.35L5.41 20z\"/>\n",
              "  </svg>\n",
              "      </button>\n",
              "      \n",
              "  <style>\n",
              "    .colab-df-container {\n",
              "      display:flex;\n",
              "      flex-wrap:wrap;\n",
              "      gap: 12px;\n",
              "    }\n",
              "\n",
              "    .colab-df-convert {\n",
              "      background-color: #E8F0FE;\n",
              "      border: none;\n",
              "      border-radius: 50%;\n",
              "      cursor: pointer;\n",
              "      display: none;\n",
              "      fill: #1967D2;\n",
              "      height: 32px;\n",
              "      padding: 0 0 0 0;\n",
              "      width: 32px;\n",
              "    }\n",
              "\n",
              "    .colab-df-convert:hover {\n",
              "      background-color: #E2EBFA;\n",
              "      box-shadow: 0px 1px 2px rgba(60, 64, 67, 0.3), 0px 1px 3px 1px rgba(60, 64, 67, 0.15);\n",
              "      fill: #174EA6;\n",
              "    }\n",
              "\n",
              "    [theme=dark] .colab-df-convert {\n",
              "      background-color: #3B4455;\n",
              "      fill: #D2E3FC;\n",
              "    }\n",
              "\n",
              "    [theme=dark] .colab-df-convert:hover {\n",
              "      background-color: #434B5C;\n",
              "      box-shadow: 0px 1px 3px 1px rgba(0, 0, 0, 0.15);\n",
              "      filter: drop-shadow(0px 1px 2px rgba(0, 0, 0, 0.3));\n",
              "      fill: #FFFFFF;\n",
              "    }\n",
              "  </style>\n",
              "\n",
              "      <script>\n",
              "        const buttonEl =\n",
              "          document.querySelector('#df-126fd889-9c07-4f28-a36f-89f5c1980699 button.colab-df-convert');\n",
              "        buttonEl.style.display =\n",
              "          google.colab.kernel.accessAllowed ? 'block' : 'none';\n",
              "\n",
              "        async function convertToInteractive(key) {\n",
              "          const element = document.querySelector('#df-126fd889-9c07-4f28-a36f-89f5c1980699');\n",
              "          const dataTable =\n",
              "            await google.colab.kernel.invokeFunction('convertToInteractive',\n",
              "                                                     [key], {});\n",
              "          if (!dataTable) return;\n",
              "\n",
              "          const docLinkHtml = 'Like what you see? Visit the ' +\n",
              "            '<a target=\"_blank\" href=https://colab.research.google.com/notebooks/data_table.ipynb>data table notebook</a>'\n",
              "            + ' to learn more about interactive tables.';\n",
              "          element.innerHTML = '';\n",
              "          dataTable['output_type'] = 'display_data';\n",
              "          await google.colab.output.renderOutput(dataTable, element);\n",
              "          const docLink = document.createElement('div');\n",
              "          docLink.innerHTML = docLinkHtml;\n",
              "          element.appendChild(docLink);\n",
              "        }\n",
              "      </script>\n",
              "    </div>\n",
              "  </div>\n",
              "  "
            ]
          },
          "metadata": {},
          "execution_count": 61
        }
      ]
    },
    {
      "cell_type": "code",
      "source": [
        "#Phân bố trọng lượng của mẫu:\n",
        "\n",
        "f, ax = plt.subplots( figsize = (11,9) )  \n",
        "plt.title( 'Weight Distributions among Sample' )  \n",
        "plt.ylabel( 'pdf' )  \n",
        "sns.distplot( df.weight6weeks )  \n",
        "plt.show()  \n"
      ],
      "metadata": {
        "colab": {
          "base_uri": "https://localhost:8080/",
          "height": 624
        },
        "id": "29rPlSgNz-U2",
        "outputId": "684674ef-2d3d-4108-e6e5-aa70cf90b74e"
      },
      "execution_count": null,
      "outputs": [
        {
          "output_type": "stream",
          "name": "stderr",
          "text": [
            "/usr/local/lib/python3.7/dist-packages/seaborn/distributions.py:2619: FutureWarning: `distplot` is a deprecated function and will be removed in a future version. Please adapt your code to use either `displot` (a figure-level function with similar flexibility) or `histplot` (an axes-level function for histograms).\n",
            "  warnings.warn(msg, FutureWarning)\n"
          ]
        },
        {
          "output_type": "display_data",
          "data": {
            "text/plain": [
              "<Figure size 792x648 with 1 Axes>"
            ],
            "image/png": "[encoded data removed]"
          },
          "metadata": {
            "needs_background": "light"
          }
        }
      ]
    },
    {
      "cell_type": "code",
      "source": [
        "#Biểu đồ phân phối cho từng Giới tính trong tập dữ liệu:\n",
        "\n",
        "f, ax = plt.subplots( figsize = (11,9) )  \n",
        "sns.distplot( mydata[mydata.gender == '1'].weight6weeks, ax = ax, label = 'Male')  \n",
        "sns.distplot( mydata[mydata.gender == '0'].weight6weeks, ax = ax, label = 'Female')  \n",
        "plt.title( 'Weight Distribution for Each Gender' )  \n",
        "plt.legend()  \n",
        "plt.show()  \n",
        "\n"
      ],
      "metadata": {
        "colab": {
          "base_uri": "https://localhost:8080/",
          "height": 660
        },
        "id": "Zsx_ZwJL0LVe",
        "outputId": "d76ee470-b8ce-4b54-c9a8-6dd08ef27cd3"
      },
      "execution_count": null,
      "outputs": [
        {
          "output_type": "stream",
          "name": "stderr",
          "text": [
            "/usr/local/lib/python3.7/dist-packages/seaborn/distributions.py:2619: FutureWarning: `distplot` is a deprecated function and will be removed in a future version. Please adapt your code to use either `displot` (a figure-level function with similar flexibility) or `histplot` (an axes-level function for histograms).\n",
            "  warnings.warn(msg, FutureWarning)\n",
            "/usr/local/lib/python3.7/dist-packages/seaborn/distributions.py:2619: FutureWarning: `distplot` is a deprecated function and will be removed in a future version. Please adapt your code to use either `displot` (a figure-level function with similar flexibility) or `histplot` (an axes-level function for histograms).\n",
            "  warnings.warn(msg, FutureWarning)\n"
          ]
        },
        {
          "output_type": "display_data",
          "data": {
            "text/plain": [
              "<Figure size 792x648 with 1 Axes>"
            ],
            "image/png": "[encoded data removed]"
          },
          "metadata": {
            "needs_background": "light"
          }
        }
      ]
    },
    {
      "cell_type": "code",
      "source": [
        "#Biểu đồ phân bố cho từng Giới tính:\n",
        "\n",
        "def infergender(x):  \n",
        "    if x == '1':   \n",
        "        return 'Male'  \n",
        "      \n",
        "    if x == '0':  \n",
        "        return 'Female'  \n",
        "      \n",
        "    return 'Other'  \n",
        "  \n",
        "def showdistribution(df, gender, column, group):  \n",
        "    f, ax = plt.subplots( figsize = (11, 9) )  \n",
        "    plt.title( 'Weight Distribution for {} on each {}'.format(gender, column) )  \n",
        "    for groupmember in group:  \n",
        "        sns.distplot(df[df[column] == groupmember].weight6weeks, label='{}'.format(groupmember))  \n",
        "    plt.legend()  \n",
        "    plt.show()  \n",
        "      \n",
        "uniquediet = mydata.Diet.unique()  \n",
        "uniquegender = mydata.gender.unique()  \n",
        "  \n",
        "for gender in uniquegender:  \n",
        "    if gender != ' ':  \n",
        "        showdistribution(mydata[mydata.gender == gender], infergender(gender), 'Diet', uniquediet)  \n"
      ],
      "metadata": {
        "colab": {
          "base_uri": "https://localhost:8080/",
          "height": 1000
        },
        "id": "34Df9rdr0Xh0",
        "outputId": "0d9d6851-db62-4ac3-b601-734c1b303b73"
      },
      "execution_count": null,
      "outputs": [
        {
          "output_type": "stream",
          "name": "stderr",
          "text": [
            "/usr/local/lib/python3.7/dist-packages/seaborn/distributions.py:2619: FutureWarning: `distplot` is a deprecated function and will be removed in a future version. Please adapt your code to use either `displot` (a figure-level function with similar flexibility) or `histplot` (an axes-level function for histograms).\n",
            "  warnings.warn(msg, FutureWarning)\n",
            "/usr/local/lib/python3.7/dist-packages/seaborn/distributions.py:2619: FutureWarning: `distplot` is a deprecated function and will be removed in a future version. Please adapt your code to use either `displot` (a figure-level function with similar flexibility) or `histplot` (an axes-level function for histograms).\n",
            "  warnings.warn(msg, FutureWarning)\n",
            "/usr/local/lib/python3.7/dist-packages/seaborn/distributions.py:2619: FutureWarning: `distplot` is a deprecated function and will be removed in a future version. Please adapt your code to use either `displot` (a figure-level function with similar flexibility) or `histplot` (an axes-level function for histograms).\n",
            "  warnings.warn(msg, FutureWarning)\n"
          ]
        },
        {
          "output_type": "display_data",
          "data": {
            "text/plain": [
              "<Figure size 792x648 with 1 Axes>"
            ],
            "image/png": "[encoded data removed]"
          },
          "metadata": {
            "needs_background": "light"
          }
        },
        {
          "output_type": "stream",
          "name": "stderr",
          "text": [
            "/usr/local/lib/python3.7/dist-packages/seaborn/distributions.py:2619: FutureWarning: `distplot` is a deprecated function and will be removed in a future version. Please adapt your code to use either `displot` (a figure-level function with similar flexibility) or `histplot` (an axes-level function for histograms).\n",
            "  warnings.warn(msg, FutureWarning)\n",
            "/usr/local/lib/python3.7/dist-packages/seaborn/distributions.py:2619: FutureWarning: `distplot` is a deprecated function and will be removed in a future version. Please adapt your code to use either `displot` (a figure-level function with similar flexibility) or `histplot` (an axes-level function for histograms).\n",
            "  warnings.warn(msg, FutureWarning)\n",
            "/usr/local/lib/python3.7/dist-packages/seaborn/distributions.py:2619: FutureWarning: `distplot` is a deprecated function and will be removed in a future version. Please adapt your code to use either `displot` (a figure-level function with similar flexibility) or `histplot` (an axes-level function for histograms).\n",
            "  warnings.warn(msg, FutureWarning)\n"
          ]
        },
        {
          "output_type": "display_data",
          "data": {
            "text/plain": [
              "<Figure size 792x648 with 1 Axes>"
            ],
            "image/png": "[encoded data removed]"
          },
          "metadata": {
            "needs_background": "light"
          }
        }
      ]
    },
    {
      "cell_type": "code",
      "source": [
        "#Thống kê này trên cơ sở giới tính cũng như chế độ ăn uống:\n",
        "\n",
        "print(df.groupby('gender').agg(  \n",
        "    [ np.mean, np.median, np.count_nonzero, np.std ]  \n",
        ").weight6weeks) "
      ],
      "metadata": {
        "colab": {
          "base_uri": "https://localhost:8080/"
        },
        "id": "Ts_Z2gzZ0r37",
        "outputId": "67f4bbee-3a8e-4080-c103-48e91116dac1"
      },
      "execution_count": null,
      "outputs": [
        {
          "output_type": "stream",
          "name": "stdout",
          "text": [
            "             mean  median  count_nonzero        std\n",
            "gender                                             \n",
            "        81.500000    81.5              2  30.405592\n",
            "0       63.223256    62.4             43   6.150874\n",
            "1       75.015152    73.9             33   4.629398\n"
          ]
        }
      ]
    },
    {
      "cell_type": "code",
      "source": [
        "diet1 = mydata[mydata[\"Diet\"] == 1]\n",
        "diet2 = mydata[mydata[\"Diet\"] == 2]\n",
        "diet3 = mydata[mydata[\"Diet\"] == 3]"
      ],
      "metadata": {
        "id": "1-srnfPIuj8y"
      },
      "execution_count": null,
      "outputs": []
    },
    {
      "cell_type": "code",
      "source": [
        "weight_loss1 = diet1[\"pre.weight\"] - diet1[\"weight6weeks\"]\n",
        "weight_loss2 = diet2[\"pre.weight\"] - diet2[\"weight6weeks\"]\n",
        "weight_loss3 = diet3[\"pre.weight\"] - diet3[\"weight6weeks\"]"
      ],
      "metadata": {
        "id": "A0iB8ZQNulek"
      },
      "execution_count": null,
      "outputs": []
    },
    {
      "cell_type": "code",
      "source": [
        "print(weight_loss1)"
      ],
      "metadata": {
        "colab": {
          "base_uri": "https://localhost:8080/"
        },
        "id": "VamRRGNZum-X",
        "outputId": "1cedc593-3771-4fee-8176-86c0f245c105"
      },
      "execution_count": null,
      "outputs": [
        {
          "output_type": "stream",
          "name": "stdout",
          "text": [
            "2     3.8\n",
            "3     6.0\n",
            "4     0.7\n",
            "5     2.9\n",
            "6     2.8\n",
            "7     2.0\n",
            "8     2.0\n",
            "9     8.5\n",
            "10    1.9\n",
            "11    3.1\n",
            "12    1.5\n",
            "13    3.0\n",
            "14    3.6\n",
            "15    0.9\n",
            "45   -0.6\n",
            "46    1.1\n",
            "47    4.5\n",
            "48    4.1\n",
            "49    9.0\n",
            "50    2.4\n",
            "51    3.9\n",
            "52    3.5\n",
            "53    5.1\n",
            "54    3.5\n",
            "dtype: float64\n"
          ]
        }
      ]
    },
    {
      "cell_type": "code",
      "source": [
        "print(weight_loss2)"
      ],
      "metadata": {
        "colab": {
          "base_uri": "https://localhost:8080/"
        },
        "id": "jMDEDcF3uodc",
        "outputId": "3c529ebc-4d77-48a1-e13a-d70e0f3bb14a"
      },
      "execution_count": null,
      "outputs": [
        {
          "output_type": "stream",
          "name": "stdout",
          "text": [
            "0     0.0\n",
            "1     0.0\n",
            "16   -2.1\n",
            "17    2.0\n",
            "18    1.7\n",
            "19    4.3\n",
            "20    7.0\n",
            "21    0.6\n",
            "22    2.7\n",
            "23    3.6\n",
            "24    3.0\n",
            "25    2.0\n",
            "26    4.2\n",
            "27    4.7\n",
            "28    3.3\n",
            "29   -0.5\n",
            "55    4.2\n",
            "56    2.4\n",
            "57    5.8\n",
            "58    3.5\n",
            "59    5.3\n",
            "60    1.7\n",
            "61    5.4\n",
            "62    6.1\n",
            "63    7.9\n",
            "64   -1.4\n",
            "65    4.3\n",
            "dtype: float64\n"
          ]
        }
      ]
    },
    {
      "cell_type": "code",
      "source": [
        "print(weight_loss3)"
      ],
      "metadata": {
        "colab": {
          "base_uri": "https://localhost:8080/"
        },
        "id": "pM3CWfNyuqMq",
        "outputId": "c3895166-06be-4c69-a796-39075ffc76d4"
      },
      "execution_count": null,
      "outputs": [
        {
          "output_type": "stream",
          "name": "stdout",
          "text": [
            "30    7.0\n",
            "31    5.6\n",
            "32    3.4\n",
            "33    6.8\n",
            "34    7.8\n",
            "35    5.4\n",
            "36    6.8\n",
            "37    7.2\n",
            "38    7.0\n",
            "39    7.3\n",
            "40    0.9\n",
            "41    7.6\n",
            "42    4.1\n",
            "43    6.3\n",
            "44    5.0\n",
            "66    2.5\n",
            "67    0.9\n",
            "68    3.5\n",
            "69    0.5\n",
            "70    2.8\n",
            "71    8.6\n",
            "72    4.5\n",
            "73    2.8\n",
            "74    4.1\n",
            "75    5.3\n",
            "76    9.2\n",
            "77    6.1\n",
            "dtype: float64\n"
          ]
        }
      ]
    },
    {
      "cell_type": "code",
      "source": [
        "import scipy.stats as stats\n",
        "\n",
        "stats.f_oneway(weight_loss1, weight_loss2, weight_loss3)"
      ],
      "metadata": {
        "colab": {
          "base_uri": "https://localhost:8080/"
        },
        "id": "-59svUfMusEZ",
        "outputId": "3da2b692-2a63-4379-87f1-ccfd794e315e"
      },
      "execution_count": null,
      "outputs": [
        {
          "output_type": "execute_result",
          "data": {
            "text/plain": [
              "F_onewayResult(statistic=6.197447453165349, pvalue=0.0032290142385893524)"
            ]
          },
          "metadata": {},
          "execution_count": 73
        }
      ]
    },
    {
      "cell_type": "code",
      "source": [
        "n = 8\n",
        "a = n*[0]\n",
        "def print_board(b):\n",
        "   l = len(b)\n",
        "   for i in range(l):\n",
        "      for j in range(l):\n",
        "         if j == a[i]:\n",
        "            print(1, end = \" \")\n",
        "         else:\n",
        "            print(0, end = \" \")\n",
        "      print()\n",
        "def possible(d, c):\n",
        "   for i in range(d):\n",
        "      # if a[i] == y or abs(i - x) == abs(a[i] - y):\n",
        "      if a[i] == c  or c - d == a[i] - i or c + d == a[i] + i:\n",
        "         return False\n",
        "   return True\n",
        "def gen(i, n):\n",
        "   for j in range(n):\n",
        "      if possible(i,j):\n",
        "         a[i] = j\n",
        "         if i == n - 1:\n",
        "            print(a)\n",
        "         gen(i+1, n)\n",
        "gen(0, n)\n"
      ],
      "metadata": {
        "colab": {
          "base_uri": "https://localhost:8080/"
        },
        "id": "QKJa9ascu0tK",
        "outputId": "11403067-c5f2-43e7-8e1b-3b6e70e6e47e"
      },
      "execution_count": null,
      "outputs": [
        {
          "output_type": "stream",
          "name": "stdout",
          "text": [
            "[0, 4, 7, 5, 2, 6, 1, 3]\n",
            "[0, 5, 7, 2, 6, 3, 1, 4]\n",
            "[0, 6, 3, 5, 7, 1, 4, 2]\n",
            "[0, 6, 4, 7, 1, 3, 5, 2]\n",
            "[1, 3, 5, 7, 2, 0, 6, 4]\n",
            "[1, 4, 6, 0, 2, 7, 5, 3]\n",
            "[1, 4, 6, 3, 0, 7, 5, 2]\n",
            "[1, 5, 0, 6, 3, 7, 2, 4]\n",
            "[1, 5, 7, 2, 0, 3, 6, 4]\n",
            "[1, 6, 2, 5, 7, 4, 0, 3]\n",
            "[1, 6, 4, 7, 0, 3, 5, 2]\n",
            "[1, 7, 5, 0, 2, 4, 6, 3]\n",
            "[2, 0, 6, 4, 7, 1, 3, 5]\n",
            "[2, 4, 1, 7, 0, 6, 3, 5]\n",
            "[2, 4, 1, 7, 5, 3, 6, 0]\n",
            "[2, 4, 6, 0, 3, 1, 7, 5]\n",
            "[2, 4, 7, 3, 0, 6, 1, 5]\n",
            "[2, 5, 1, 4, 7, 0, 6, 3]\n",
            "[2, 5, 1, 6, 0, 3, 7, 4]\n",
            "[2, 5, 1, 6, 4, 0, 7, 3]\n",
            "[2, 5, 3, 0, 7, 4, 6, 1]\n",
            "[2, 5, 3, 1, 7, 4, 6, 0]\n",
            "[2, 5, 7, 0, 3, 6, 4, 1]\n",
            "[2, 5, 7, 0, 4, 6, 1, 3]\n",
            "[2, 5, 7, 1, 3, 0, 6, 4]\n",
            "[2, 6, 1, 7, 4, 0, 3, 5]\n",
            "[2, 6, 1, 7, 5, 3, 0, 4]\n",
            "[2, 7, 3, 6, 0, 5, 1, 4]\n",
            "[3, 0, 4, 7, 1, 6, 2, 5]\n",
            "[3, 0, 4, 7, 5, 2, 6, 1]\n",
            "[3, 1, 4, 7, 5, 0, 2, 6]\n",
            "[3, 1, 6, 2, 5, 7, 0, 4]\n",
            "[3, 1, 6, 2, 5, 7, 4, 0]\n",
            "[3, 1, 6, 4, 0, 7, 5, 2]\n",
            "[3, 1, 7, 4, 6, 0, 2, 5]\n",
            "[3, 1, 7, 5, 0, 2, 4, 6]\n",
            "[3, 5, 0, 4, 1, 7, 2, 6]\n",
            "[3, 5, 7, 1, 6, 0, 2, 4]\n",
            "[3, 5, 7, 2, 0, 6, 4, 1]\n",
            "[3, 6, 0, 7, 4, 1, 5, 2]\n",
            "[3, 6, 2, 7, 1, 4, 0, 5]\n",
            "[3, 6, 4, 1, 5, 0, 2, 7]\n",
            "[3, 6, 4, 2, 0, 5, 7, 1]\n",
            "[3, 7, 0, 2, 5, 1, 6, 4]\n",
            "[3, 7, 0, 4, 6, 1, 5, 2]\n",
            "[3, 7, 4, 2, 0, 6, 1, 5]\n",
            "[4, 0, 3, 5, 7, 1, 6, 2]\n",
            "[4, 0, 7, 3, 1, 6, 2, 5]\n",
            "[4, 0, 7, 5, 2, 6, 1, 3]\n",
            "[4, 1, 3, 5, 7, 2, 0, 6]\n",
            "[4, 1, 3, 6, 2, 7, 5, 0]\n",
            "[4, 1, 5, 0, 6, 3, 7, 2]\n",
            "[4, 1, 7, 0, 3, 6, 2, 5]\n",
            "[4, 2, 0, 5, 7, 1, 3, 6]\n",
            "[4, 2, 0, 6, 1, 7, 5, 3]\n",
            "[4, 2, 7, 3, 6, 0, 5, 1]\n",
            "[4, 6, 0, 2, 7, 5, 3, 1]\n",
            "[4, 6, 0, 3, 1, 7, 5, 2]\n",
            "[4, 6, 1, 3, 7, 0, 2, 5]\n",
            "[4, 6, 1, 5, 2, 0, 3, 7]\n",
            "[4, 6, 1, 5, 2, 0, 7, 3]\n",
            "[4, 6, 3, 0, 2, 7, 5, 1]\n",
            "[4, 7, 3, 0, 2, 5, 1, 6]\n",
            "[4, 7, 3, 0, 6, 1, 5, 2]\n",
            "[5, 0, 4, 1, 7, 2, 6, 3]\n",
            "[5, 1, 6, 0, 2, 4, 7, 3]\n",
            "[5, 1, 6, 0, 3, 7, 4, 2]\n",
            "[5, 2, 0, 6, 4, 7, 1, 3]\n",
            "[5, 2, 0, 7, 3, 1, 6, 4]\n",
            "[5, 2, 0, 7, 4, 1, 3, 6]\n",
            "[5, 2, 4, 6, 0, 3, 1, 7]\n",
            "[5, 2, 4, 7, 0, 3, 1, 6]\n",
            "[5, 2, 6, 1, 3, 7, 0, 4]\n",
            "[5, 2, 6, 1, 7, 4, 0, 3]\n",
            "[5, 2, 6, 3, 0, 7, 1, 4]\n",
            "[5, 3, 0, 4, 7, 1, 6, 2]\n",
            "[5, 3, 1, 7, 4, 6, 0, 2]\n",
            "[5, 3, 6, 0, 2, 4, 1, 7]\n",
            "[5, 3, 6, 0, 7, 1, 4, 2]\n",
            "[5, 7, 1, 3, 0, 6, 4, 2]\n",
            "[6, 0, 2, 7, 5, 3, 1, 4]\n",
            "[6, 1, 3, 0, 7, 4, 2, 5]\n",
            "[6, 1, 5, 2, 0, 3, 7, 4]\n",
            "[6, 2, 0, 5, 7, 4, 1, 3]\n",
            "[6, 2, 7, 1, 4, 0, 5, 3]\n",
            "[6, 3, 1, 4, 7, 0, 2, 5]\n",
            "[6, 3, 1, 7, 5, 0, 2, 4]\n",
            "[6, 4, 2, 0, 5, 7, 1, 3]\n",
            "[7, 1, 3, 0, 6, 4, 2, 5]\n",
            "[7, 1, 4, 2, 0, 6, 3, 5]\n",
            "[7, 2, 0, 5, 1, 4, 6, 3]\n",
            "[7, 3, 0, 2, 5, 1, 6, 4]\n"
          ]
        }
      ]
    },
    {
      "cell_type": "code",
      "source": [
        "#ANOVA Test:\n",
        "\n",
        "mymod = ols('Height ~ Diet', data = mydata[mydata.gender == '0']).fit()  \n",
        "\n",
        "aovtable = sm.stats.anova_lm(mymod, typ = 2)  \n",
        "print('ANOVA table for Female')  \n",
        "print('----------------------')  \n",
        "print(aovtable)  \n",
        "print()  \n",
        "  \n",
        "mod = ols('Height ~ Diet', data = mydata[mydata.gender=='1']).fit()  \n",
        "# type 2 anova test  \n",
        "aovtable = sm.stats.anova_lm(mymod, typ = 2)  \n",
        "print('ANOVA table for Male')  \n",
        "print('----------------------')  \n",
        "print(aovtable)  \n"
      ],
      "metadata": {
        "colab": {
          "base_uri": "https://localhost:8080/"
        },
        "id": "JfVA3PPXsVLQ",
        "outputId": "a66ccd82-42ca-44db-b5cc-cd018a221d05"
      },
      "execution_count": null,
      "outputs": [
        {
          "output_type": "stream",
          "name": "stdout",
          "text": [
            "ANOVA table for Female\n",
            "----------------------\n",
            "               sum_sq    df        F    PR(>F)\n",
            "Diet       559.680764   1.0  7.17969  0.010566\n",
            "Residual  3196.086677  41.0      NaN       NaN\n",
            "\n",
            "ANOVA table for Male\n",
            "----------------------\n",
            "               sum_sq    df        F    PR(>F)\n",
            "Diet       559.680764   1.0  7.17969  0.010566\n",
            "Residual  3196.086677  41.0      NaN       NaN\n"
          ]
        }
      ]
    },
    {
      "cell_type": "code",
      "source": [
        "#Xác định nhóm ăn kiêng:\n",
        "from statsmodels.stats.multicomp import pairwise_tukeyhsd, MultiComparison  \n",
        " \n",
        "mydf = mydata[mydata.gender == '0']  \n",
        "  \n",
        "  \n",
        "multiComp = MultiComparison(mydf['Height'], mydf['Diet'])  \n",
        "tukeyres = multiComp.tukeyhsd(alpha = 0.05)  \n",
        "  \n",
        "print(tukeyres)  \n",
        "print('Unique diet groups: ', multiComp.groupsunique)  \n"
      ],
      "metadata": {
        "colab": {
          "base_uri": "https://localhost:8080/"
        },
        "id": "V8-JSfTHsF0s",
        "outputId": "13fd9d2b-522f-4d37-eb30-fd0811ecd22d"
      },
      "execution_count": null,
      "outputs": [
        {
          "output_type": "stream",
          "name": "stdout",
          "text": [
            " Multiple Comparison of Means - Tukey HSD, FWER=0.05 \n",
            "=====================================================\n",
            "group1 group2 meandiff p-adj   lower    upper  reject\n",
            "-----------------------------------------------------\n",
            "     1      2  -3.5714 0.5437 -11.7861  4.6432  False\n",
            "     1      3  -8.7714 0.0307  -16.848 -0.6948   True\n",
            "     2      3     -5.2 0.2719 -13.2766  2.8766  False\n",
            "-----------------------------------------------------\n",
            "Unique diet groups:  [1 2 3]\n"
          ]
        }
      ]
    },
    {
      "cell_type": "markdown",
      "source": [
        "Có bằng chứng để bác bỏ giả thuyết null  $H_0$\n",
        "-\n",
        "\n",
        "\n",
        "*   Mục danh sách\n",
        "*   Mục danh sách\n",
        "\n"
      ],
      "metadata": {
        "id": "pjwV0axLuxPy"
      }
    }
  ]
}